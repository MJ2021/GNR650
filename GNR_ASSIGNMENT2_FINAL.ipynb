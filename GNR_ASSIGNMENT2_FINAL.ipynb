{
  "nbformat": 4,
  "nbformat_minor": 0,
  "metadata": {
    "colab": {
      "provenance": [],
      "gpuType": "T4"
    },
    "kernelspec": {
      "name": "python3",
      "display_name": "Python 3"
    },
    "language_info": {
      "name": "python"
    },
    "accelerator": "GPU"
  },
  "cells": [
    {
      "cell_type": "code",
      "source": [
        "import torch\n",
        "import torch.nn as nn\n",
        "import torch.optim as optim\n",
        "import torchvision\n",
        "import torchvision.transforms as transforms\n",
        "import torchvision.datasets as datasets\n",
        "from torchvision.models import vision_transformer\n",
        "from torch.utils.data import DataLoader\n",
        "import ssl"
      ],
      "metadata": {
        "id": "WliGF6ZfPDnE"
      },
      "execution_count": 1,
      "outputs": []
    },
    {
      "cell_type": "code",
      "source": [
        "device = torch.device(\"cuda\" if torch.cuda.is_available() else \"cpu\")\n",
        "ssl._create_default_https_context = ssl._create_unverified_context\n",
        "transform = transforms.Compose([transforms.Resize((224, 224)), transforms.ToTensor(), transforms.Normalize(mean=[0.485, 0.456, 0.406], std=[0.229, 0.224, 0.225]),])\n",
        "dataset = torchvision.datasets.EuroSAT(root=\"\", download = True, transform = transform)"
      ],
      "metadata": {
        "colab": {
          "base_uri": "https://localhost:8080/"
        },
        "id": "JguiNgT_Pc6i",
        "outputId": "494807f2-1b7d-4621-b774-d13bef839af6"
      },
      "execution_count": 2,
      "outputs": [
        {
          "output_type": "stream",
          "name": "stdout",
          "text": [
            "Downloading https://madm.dfki.de/files/sentinel/EuroSAT.zip to eurosat/EuroSAT.zip\n"
          ]
        },
        {
          "output_type": "stream",
          "name": "stderr",
          "text": [
            "100%|██████████| 94280567/94280567 [00:05<00:00, 16666242.09it/s]\n"
          ]
        },
        {
          "output_type": "stream",
          "name": "stdout",
          "text": [
            "Extracting eurosat/EuroSAT.zip to eurosat\n"
          ]
        }
      ]
    },
    {
      "cell_type": "code",
      "source": [
        "ratio = 0.85                                                                                    # Train test split\n",
        "train_samp = int(ratio * len(dataset))\n",
        "test_samp = len(dataset) - train_samp\n",
        "train_dataset, test_dataset = torch.utils.data.random_split(dataset, [train_samp, test_samp])\n"
      ],
      "metadata": {
        "id": "FHy1RKaZP6c4"
      },
      "execution_count": 3,
      "outputs": []
    },
    {
      "cell_type": "markdown",
      "source": [
        "**Making the dataloaders for the train and test dataset**"
      ],
      "metadata": {
        "id": "wtVv1toHw3Zj"
      }
    },
    {
      "cell_type": "code",
      "source": [
        "batch_size = 32\n",
        "train_loader = DataLoader(train_dataset, batch_size = batch_size, shuffle = True)\n",
        "test_loader = DataLoader(test_dataset, batch_size = batch_size, shuffle = False)"
      ],
      "metadata": {
        "id": "mbvbMF8Nw1_S"
      },
      "execution_count": 4,
      "outputs": []
    },
    {
      "cell_type": "markdown",
      "source": [
        "## 1. Fine tuning the final layer"
      ],
      "metadata": {
        "id": "-YR3-GCwmIiw"
      }
    },
    {
      "cell_type": "markdown",
      "source": [
        "Making all the layers except the final layer as non trainable"
      ],
      "metadata": {
        "id": "lWXP31MHxNd2"
      }
    },
    {
      "cell_type": "code",
      "source": [
        "model = vision_transformer.vit_b_32(pretrained=True)\n",
        "model.heads.head = nn.Linear(in_features=768,out_features=10,bias=True)\n",
        "\n",
        "for param in model.parameters():\n",
        "    param.requires_grad = False\n",
        "for param in model.heads.head.parameters():\n",
        "    param.requires_grad = True"
      ],
      "metadata": {
        "id": "gUhA5Bst9ThN",
        "colab": {
          "base_uri": "https://localhost:8080/"
        },
        "outputId": "cfc41e84-fecd-453f-c22c-b43f0e729c8a"
      },
      "execution_count": 5,
      "outputs": [
        {
          "output_type": "stream",
          "name": "stderr",
          "text": [
            "/usr/local/lib/python3.10/dist-packages/torchvision/models/_utils.py:208: UserWarning: The parameter 'pretrained' is deprecated since 0.13 and may be removed in the future, please use 'weights' instead.\n",
            "  warnings.warn(\n",
            "/usr/local/lib/python3.10/dist-packages/torchvision/models/_utils.py:223: UserWarning: Arguments other than a weight enum or `None` for 'weights' are deprecated since 0.13 and may be removed in the future. The current behavior is equivalent to passing `weights=ViT_B_32_Weights.IMAGENET1K_V1`. You can also use `weights=ViT_B_32_Weights.DEFAULT` to get the most up-to-date weights.\n",
            "  warnings.warn(msg)\n",
            "Downloading: \"https://download.pytorch.org/models/vit_b_32-d86f8d99.pth\" to /root/.cache/torch/hub/checkpoints/vit_b_32-d86f8d99.pth\n",
            "100%|██████████| 337M/337M [00:02<00:00, 164MB/s]\n"
          ]
        }
      ]
    },
    {
      "cell_type": "code",
      "source": [
        "model = model"
      ],
      "metadata": {
        "id": "xXPfbDSMV6PU"
      },
      "execution_count": 6,
      "outputs": []
    },
    {
      "cell_type": "code",
      "source": [
        "for name, param in model.named_parameters():\n",
        "  print(name, param.requires_grad)"
      ],
      "metadata": {
        "colab": {
          "base_uri": "https://localhost:8080/"
        },
        "id": "9ETAhiSORN7i",
        "outputId": "6300437d-c720-4f68-9862-d343e0833a0f"
      },
      "execution_count": 7,
      "outputs": [
        {
          "output_type": "stream",
          "name": "stdout",
          "text": [
            "class_token False\n",
            "conv_proj.weight False\n",
            "conv_proj.bias False\n",
            "encoder.pos_embedding False\n",
            "encoder.layers.encoder_layer_0.ln_1.weight False\n",
            "encoder.layers.encoder_layer_0.ln_1.bias False\n",
            "encoder.layers.encoder_layer_0.self_attention.in_proj_weight False\n",
            "encoder.layers.encoder_layer_0.self_attention.in_proj_bias False\n",
            "encoder.layers.encoder_layer_0.self_attention.out_proj.weight False\n",
            "encoder.layers.encoder_layer_0.self_attention.out_proj.bias False\n",
            "encoder.layers.encoder_layer_0.ln_2.weight False\n",
            "encoder.layers.encoder_layer_0.ln_2.bias False\n",
            "encoder.layers.encoder_layer_0.mlp.0.weight False\n",
            "encoder.layers.encoder_layer_0.mlp.0.bias False\n",
            "encoder.layers.encoder_layer_0.mlp.3.weight False\n",
            "encoder.layers.encoder_layer_0.mlp.3.bias False\n",
            "encoder.layers.encoder_layer_1.ln_1.weight False\n",
            "encoder.layers.encoder_layer_1.ln_1.bias False\n",
            "encoder.layers.encoder_layer_1.self_attention.in_proj_weight False\n",
            "encoder.layers.encoder_layer_1.self_attention.in_proj_bias False\n",
            "encoder.layers.encoder_layer_1.self_attention.out_proj.weight False\n",
            "encoder.layers.encoder_layer_1.self_attention.out_proj.bias False\n",
            "encoder.layers.encoder_layer_1.ln_2.weight False\n",
            "encoder.layers.encoder_layer_1.ln_2.bias False\n",
            "encoder.layers.encoder_layer_1.mlp.0.weight False\n",
            "encoder.layers.encoder_layer_1.mlp.0.bias False\n",
            "encoder.layers.encoder_layer_1.mlp.3.weight False\n",
            "encoder.layers.encoder_layer_1.mlp.3.bias False\n",
            "encoder.layers.encoder_layer_2.ln_1.weight False\n",
            "encoder.layers.encoder_layer_2.ln_1.bias False\n",
            "encoder.layers.encoder_layer_2.self_attention.in_proj_weight False\n",
            "encoder.layers.encoder_layer_2.self_attention.in_proj_bias False\n",
            "encoder.layers.encoder_layer_2.self_attention.out_proj.weight False\n",
            "encoder.layers.encoder_layer_2.self_attention.out_proj.bias False\n",
            "encoder.layers.encoder_layer_2.ln_2.weight False\n",
            "encoder.layers.encoder_layer_2.ln_2.bias False\n",
            "encoder.layers.encoder_layer_2.mlp.0.weight False\n",
            "encoder.layers.encoder_layer_2.mlp.0.bias False\n",
            "encoder.layers.encoder_layer_2.mlp.3.weight False\n",
            "encoder.layers.encoder_layer_2.mlp.3.bias False\n",
            "encoder.layers.encoder_layer_3.ln_1.weight False\n",
            "encoder.layers.encoder_layer_3.ln_1.bias False\n",
            "encoder.layers.encoder_layer_3.self_attention.in_proj_weight False\n",
            "encoder.layers.encoder_layer_3.self_attention.in_proj_bias False\n",
            "encoder.layers.encoder_layer_3.self_attention.out_proj.weight False\n",
            "encoder.layers.encoder_layer_3.self_attention.out_proj.bias False\n",
            "encoder.layers.encoder_layer_3.ln_2.weight False\n",
            "encoder.layers.encoder_layer_3.ln_2.bias False\n",
            "encoder.layers.encoder_layer_3.mlp.0.weight False\n",
            "encoder.layers.encoder_layer_3.mlp.0.bias False\n",
            "encoder.layers.encoder_layer_3.mlp.3.weight False\n",
            "encoder.layers.encoder_layer_3.mlp.3.bias False\n",
            "encoder.layers.encoder_layer_4.ln_1.weight False\n",
            "encoder.layers.encoder_layer_4.ln_1.bias False\n",
            "encoder.layers.encoder_layer_4.self_attention.in_proj_weight False\n",
            "encoder.layers.encoder_layer_4.self_attention.in_proj_bias False\n",
            "encoder.layers.encoder_layer_4.self_attention.out_proj.weight False\n",
            "encoder.layers.encoder_layer_4.self_attention.out_proj.bias False\n",
            "encoder.layers.encoder_layer_4.ln_2.weight False\n",
            "encoder.layers.encoder_layer_4.ln_2.bias False\n",
            "encoder.layers.encoder_layer_4.mlp.0.weight False\n",
            "encoder.layers.encoder_layer_4.mlp.0.bias False\n",
            "encoder.layers.encoder_layer_4.mlp.3.weight False\n",
            "encoder.layers.encoder_layer_4.mlp.3.bias False\n",
            "encoder.layers.encoder_layer_5.ln_1.weight False\n",
            "encoder.layers.encoder_layer_5.ln_1.bias False\n",
            "encoder.layers.encoder_layer_5.self_attention.in_proj_weight False\n",
            "encoder.layers.encoder_layer_5.self_attention.in_proj_bias False\n",
            "encoder.layers.encoder_layer_5.self_attention.out_proj.weight False\n",
            "encoder.layers.encoder_layer_5.self_attention.out_proj.bias False\n",
            "encoder.layers.encoder_layer_5.ln_2.weight False\n",
            "encoder.layers.encoder_layer_5.ln_2.bias False\n",
            "encoder.layers.encoder_layer_5.mlp.0.weight False\n",
            "encoder.layers.encoder_layer_5.mlp.0.bias False\n",
            "encoder.layers.encoder_layer_5.mlp.3.weight False\n",
            "encoder.layers.encoder_layer_5.mlp.3.bias False\n",
            "encoder.layers.encoder_layer_6.ln_1.weight False\n",
            "encoder.layers.encoder_layer_6.ln_1.bias False\n",
            "encoder.layers.encoder_layer_6.self_attention.in_proj_weight False\n",
            "encoder.layers.encoder_layer_6.self_attention.in_proj_bias False\n",
            "encoder.layers.encoder_layer_6.self_attention.out_proj.weight False\n",
            "encoder.layers.encoder_layer_6.self_attention.out_proj.bias False\n",
            "encoder.layers.encoder_layer_6.ln_2.weight False\n",
            "encoder.layers.encoder_layer_6.ln_2.bias False\n",
            "encoder.layers.encoder_layer_6.mlp.0.weight False\n",
            "encoder.layers.encoder_layer_6.mlp.0.bias False\n",
            "encoder.layers.encoder_layer_6.mlp.3.weight False\n",
            "encoder.layers.encoder_layer_6.mlp.3.bias False\n",
            "encoder.layers.encoder_layer_7.ln_1.weight False\n",
            "encoder.layers.encoder_layer_7.ln_1.bias False\n",
            "encoder.layers.encoder_layer_7.self_attention.in_proj_weight False\n",
            "encoder.layers.encoder_layer_7.self_attention.in_proj_bias False\n",
            "encoder.layers.encoder_layer_7.self_attention.out_proj.weight False\n",
            "encoder.layers.encoder_layer_7.self_attention.out_proj.bias False\n",
            "encoder.layers.encoder_layer_7.ln_2.weight False\n",
            "encoder.layers.encoder_layer_7.ln_2.bias False\n",
            "encoder.layers.encoder_layer_7.mlp.0.weight False\n",
            "encoder.layers.encoder_layer_7.mlp.0.bias False\n",
            "encoder.layers.encoder_layer_7.mlp.3.weight False\n",
            "encoder.layers.encoder_layer_7.mlp.3.bias False\n",
            "encoder.layers.encoder_layer_8.ln_1.weight False\n",
            "encoder.layers.encoder_layer_8.ln_1.bias False\n",
            "encoder.layers.encoder_layer_8.self_attention.in_proj_weight False\n",
            "encoder.layers.encoder_layer_8.self_attention.in_proj_bias False\n",
            "encoder.layers.encoder_layer_8.self_attention.out_proj.weight False\n",
            "encoder.layers.encoder_layer_8.self_attention.out_proj.bias False\n",
            "encoder.layers.encoder_layer_8.ln_2.weight False\n",
            "encoder.layers.encoder_layer_8.ln_2.bias False\n",
            "encoder.layers.encoder_layer_8.mlp.0.weight False\n",
            "encoder.layers.encoder_layer_8.mlp.0.bias False\n",
            "encoder.layers.encoder_layer_8.mlp.3.weight False\n",
            "encoder.layers.encoder_layer_8.mlp.3.bias False\n",
            "encoder.layers.encoder_layer_9.ln_1.weight False\n",
            "encoder.layers.encoder_layer_9.ln_1.bias False\n",
            "encoder.layers.encoder_layer_9.self_attention.in_proj_weight False\n",
            "encoder.layers.encoder_layer_9.self_attention.in_proj_bias False\n",
            "encoder.layers.encoder_layer_9.self_attention.out_proj.weight False\n",
            "encoder.layers.encoder_layer_9.self_attention.out_proj.bias False\n",
            "encoder.layers.encoder_layer_9.ln_2.weight False\n",
            "encoder.layers.encoder_layer_9.ln_2.bias False\n",
            "encoder.layers.encoder_layer_9.mlp.0.weight False\n",
            "encoder.layers.encoder_layer_9.mlp.0.bias False\n",
            "encoder.layers.encoder_layer_9.mlp.3.weight False\n",
            "encoder.layers.encoder_layer_9.mlp.3.bias False\n",
            "encoder.layers.encoder_layer_10.ln_1.weight False\n",
            "encoder.layers.encoder_layer_10.ln_1.bias False\n",
            "encoder.layers.encoder_layer_10.self_attention.in_proj_weight False\n",
            "encoder.layers.encoder_layer_10.self_attention.in_proj_bias False\n",
            "encoder.layers.encoder_layer_10.self_attention.out_proj.weight False\n",
            "encoder.layers.encoder_layer_10.self_attention.out_proj.bias False\n",
            "encoder.layers.encoder_layer_10.ln_2.weight False\n",
            "encoder.layers.encoder_layer_10.ln_2.bias False\n",
            "encoder.layers.encoder_layer_10.mlp.0.weight False\n",
            "encoder.layers.encoder_layer_10.mlp.0.bias False\n",
            "encoder.layers.encoder_layer_10.mlp.3.weight False\n",
            "encoder.layers.encoder_layer_10.mlp.3.bias False\n",
            "encoder.layers.encoder_layer_11.ln_1.weight False\n",
            "encoder.layers.encoder_layer_11.ln_1.bias False\n",
            "encoder.layers.encoder_layer_11.self_attention.in_proj_weight False\n",
            "encoder.layers.encoder_layer_11.self_attention.in_proj_bias False\n",
            "encoder.layers.encoder_layer_11.self_attention.out_proj.weight False\n",
            "encoder.layers.encoder_layer_11.self_attention.out_proj.bias False\n",
            "encoder.layers.encoder_layer_11.ln_2.weight False\n",
            "encoder.layers.encoder_layer_11.ln_2.bias False\n",
            "encoder.layers.encoder_layer_11.mlp.0.weight False\n",
            "encoder.layers.encoder_layer_11.mlp.0.bias False\n",
            "encoder.layers.encoder_layer_11.mlp.3.weight False\n",
            "encoder.layers.encoder_layer_11.mlp.3.bias False\n",
            "encoder.ln.weight False\n",
            "encoder.ln.bias False\n",
            "heads.head.weight True\n",
            "heads.head.bias True\n"
          ]
        }
      ]
    },
    {
      "cell_type": "markdown",
      "source": [
        "**We can observe that only the final layer in the above model is trainable**"
      ],
      "metadata": {
        "id": "GPgjwGiPW9JL"
      }
    },
    {
      "cell_type": "code",
      "source": [
        "loss_fn = nn.CrossEntropyLoss()\n",
        "optimizer = optim.Adam(model.parameters(), lr = 1e-3)"
      ],
      "metadata": {
        "id": "Q9GWojFjgRtD"
      },
      "execution_count": 8,
      "outputs": []
    },
    {
      "cell_type": "code",
      "source": [
        "model.to(device)"
      ],
      "metadata": {
        "colab": {
          "base_uri": "https://localhost:8080/"
        },
        "id": "Gx8fvt7NW4BM",
        "outputId": "d1b018ef-aa07-413e-887e-e2d09e738e1e"
      },
      "execution_count": 9,
      "outputs": [
        {
          "output_type": "execute_result",
          "data": {
            "text/plain": [
              "VisionTransformer(\n",
              "  (conv_proj): Conv2d(3, 768, kernel_size=(32, 32), stride=(32, 32))\n",
              "  (encoder): Encoder(\n",
              "    (dropout): Dropout(p=0.0, inplace=False)\n",
              "    (layers): Sequential(\n",
              "      (encoder_layer_0): EncoderBlock(\n",
              "        (ln_1): LayerNorm((768,), eps=1e-06, elementwise_affine=True)\n",
              "        (self_attention): MultiheadAttention(\n",
              "          (out_proj): NonDynamicallyQuantizableLinear(in_features=768, out_features=768, bias=True)\n",
              "        )\n",
              "        (dropout): Dropout(p=0.0, inplace=False)\n",
              "        (ln_2): LayerNorm((768,), eps=1e-06, elementwise_affine=True)\n",
              "        (mlp): MLPBlock(\n",
              "          (0): Linear(in_features=768, out_features=3072, bias=True)\n",
              "          (1): GELU(approximate='none')\n",
              "          (2): Dropout(p=0.0, inplace=False)\n",
              "          (3): Linear(in_features=3072, out_features=768, bias=True)\n",
              "          (4): Dropout(p=0.0, inplace=False)\n",
              "        )\n",
              "      )\n",
              "      (encoder_layer_1): EncoderBlock(\n",
              "        (ln_1): LayerNorm((768,), eps=1e-06, elementwise_affine=True)\n",
              "        (self_attention): MultiheadAttention(\n",
              "          (out_proj): NonDynamicallyQuantizableLinear(in_features=768, out_features=768, bias=True)\n",
              "        )\n",
              "        (dropout): Dropout(p=0.0, inplace=False)\n",
              "        (ln_2): LayerNorm((768,), eps=1e-06, elementwise_affine=True)\n",
              "        (mlp): MLPBlock(\n",
              "          (0): Linear(in_features=768, out_features=3072, bias=True)\n",
              "          (1): GELU(approximate='none')\n",
              "          (2): Dropout(p=0.0, inplace=False)\n",
              "          (3): Linear(in_features=3072, out_features=768, bias=True)\n",
              "          (4): Dropout(p=0.0, inplace=False)\n",
              "        )\n",
              "      )\n",
              "      (encoder_layer_2): EncoderBlock(\n",
              "        (ln_1): LayerNorm((768,), eps=1e-06, elementwise_affine=True)\n",
              "        (self_attention): MultiheadAttention(\n",
              "          (out_proj): NonDynamicallyQuantizableLinear(in_features=768, out_features=768, bias=True)\n",
              "        )\n",
              "        (dropout): Dropout(p=0.0, inplace=False)\n",
              "        (ln_2): LayerNorm((768,), eps=1e-06, elementwise_affine=True)\n",
              "        (mlp): MLPBlock(\n",
              "          (0): Linear(in_features=768, out_features=3072, bias=True)\n",
              "          (1): GELU(approximate='none')\n",
              "          (2): Dropout(p=0.0, inplace=False)\n",
              "          (3): Linear(in_features=3072, out_features=768, bias=True)\n",
              "          (4): Dropout(p=0.0, inplace=False)\n",
              "        )\n",
              "      )\n",
              "      (encoder_layer_3): EncoderBlock(\n",
              "        (ln_1): LayerNorm((768,), eps=1e-06, elementwise_affine=True)\n",
              "        (self_attention): MultiheadAttention(\n",
              "          (out_proj): NonDynamicallyQuantizableLinear(in_features=768, out_features=768, bias=True)\n",
              "        )\n",
              "        (dropout): Dropout(p=0.0, inplace=False)\n",
              "        (ln_2): LayerNorm((768,), eps=1e-06, elementwise_affine=True)\n",
              "        (mlp): MLPBlock(\n",
              "          (0): Linear(in_features=768, out_features=3072, bias=True)\n",
              "          (1): GELU(approximate='none')\n",
              "          (2): Dropout(p=0.0, inplace=False)\n",
              "          (3): Linear(in_features=3072, out_features=768, bias=True)\n",
              "          (4): Dropout(p=0.0, inplace=False)\n",
              "        )\n",
              "      )\n",
              "      (encoder_layer_4): EncoderBlock(\n",
              "        (ln_1): LayerNorm((768,), eps=1e-06, elementwise_affine=True)\n",
              "        (self_attention): MultiheadAttention(\n",
              "          (out_proj): NonDynamicallyQuantizableLinear(in_features=768, out_features=768, bias=True)\n",
              "        )\n",
              "        (dropout): Dropout(p=0.0, inplace=False)\n",
              "        (ln_2): LayerNorm((768,), eps=1e-06, elementwise_affine=True)\n",
              "        (mlp): MLPBlock(\n",
              "          (0): Linear(in_features=768, out_features=3072, bias=True)\n",
              "          (1): GELU(approximate='none')\n",
              "          (2): Dropout(p=0.0, inplace=False)\n",
              "          (3): Linear(in_features=3072, out_features=768, bias=True)\n",
              "          (4): Dropout(p=0.0, inplace=False)\n",
              "        )\n",
              "      )\n",
              "      (encoder_layer_5): EncoderBlock(\n",
              "        (ln_1): LayerNorm((768,), eps=1e-06, elementwise_affine=True)\n",
              "        (self_attention): MultiheadAttention(\n",
              "          (out_proj): NonDynamicallyQuantizableLinear(in_features=768, out_features=768, bias=True)\n",
              "        )\n",
              "        (dropout): Dropout(p=0.0, inplace=False)\n",
              "        (ln_2): LayerNorm((768,), eps=1e-06, elementwise_affine=True)\n",
              "        (mlp): MLPBlock(\n",
              "          (0): Linear(in_features=768, out_features=3072, bias=True)\n",
              "          (1): GELU(approximate='none')\n",
              "          (2): Dropout(p=0.0, inplace=False)\n",
              "          (3): Linear(in_features=3072, out_features=768, bias=True)\n",
              "          (4): Dropout(p=0.0, inplace=False)\n",
              "        )\n",
              "      )\n",
              "      (encoder_layer_6): EncoderBlock(\n",
              "        (ln_1): LayerNorm((768,), eps=1e-06, elementwise_affine=True)\n",
              "        (self_attention): MultiheadAttention(\n",
              "          (out_proj): NonDynamicallyQuantizableLinear(in_features=768, out_features=768, bias=True)\n",
              "        )\n",
              "        (dropout): Dropout(p=0.0, inplace=False)\n",
              "        (ln_2): LayerNorm((768,), eps=1e-06, elementwise_affine=True)\n",
              "        (mlp): MLPBlock(\n",
              "          (0): Linear(in_features=768, out_features=3072, bias=True)\n",
              "          (1): GELU(approximate='none')\n",
              "          (2): Dropout(p=0.0, inplace=False)\n",
              "          (3): Linear(in_features=3072, out_features=768, bias=True)\n",
              "          (4): Dropout(p=0.0, inplace=False)\n",
              "        )\n",
              "      )\n",
              "      (encoder_layer_7): EncoderBlock(\n",
              "        (ln_1): LayerNorm((768,), eps=1e-06, elementwise_affine=True)\n",
              "        (self_attention): MultiheadAttention(\n",
              "          (out_proj): NonDynamicallyQuantizableLinear(in_features=768, out_features=768, bias=True)\n",
              "        )\n",
              "        (dropout): Dropout(p=0.0, inplace=False)\n",
              "        (ln_2): LayerNorm((768,), eps=1e-06, elementwise_affine=True)\n",
              "        (mlp): MLPBlock(\n",
              "          (0): Linear(in_features=768, out_features=3072, bias=True)\n",
              "          (1): GELU(approximate='none')\n",
              "          (2): Dropout(p=0.0, inplace=False)\n",
              "          (3): Linear(in_features=3072, out_features=768, bias=True)\n",
              "          (4): Dropout(p=0.0, inplace=False)\n",
              "        )\n",
              "      )\n",
              "      (encoder_layer_8): EncoderBlock(\n",
              "        (ln_1): LayerNorm((768,), eps=1e-06, elementwise_affine=True)\n",
              "        (self_attention): MultiheadAttention(\n",
              "          (out_proj): NonDynamicallyQuantizableLinear(in_features=768, out_features=768, bias=True)\n",
              "        )\n",
              "        (dropout): Dropout(p=0.0, inplace=False)\n",
              "        (ln_2): LayerNorm((768,), eps=1e-06, elementwise_affine=True)\n",
              "        (mlp): MLPBlock(\n",
              "          (0): Linear(in_features=768, out_features=3072, bias=True)\n",
              "          (1): GELU(approximate='none')\n",
              "          (2): Dropout(p=0.0, inplace=False)\n",
              "          (3): Linear(in_features=3072, out_features=768, bias=True)\n",
              "          (4): Dropout(p=0.0, inplace=False)\n",
              "        )\n",
              "      )\n",
              "      (encoder_layer_9): EncoderBlock(\n",
              "        (ln_1): LayerNorm((768,), eps=1e-06, elementwise_affine=True)\n",
              "        (self_attention): MultiheadAttention(\n",
              "          (out_proj): NonDynamicallyQuantizableLinear(in_features=768, out_features=768, bias=True)\n",
              "        )\n",
              "        (dropout): Dropout(p=0.0, inplace=False)\n",
              "        (ln_2): LayerNorm((768,), eps=1e-06, elementwise_affine=True)\n",
              "        (mlp): MLPBlock(\n",
              "          (0): Linear(in_features=768, out_features=3072, bias=True)\n",
              "          (1): GELU(approximate='none')\n",
              "          (2): Dropout(p=0.0, inplace=False)\n",
              "          (3): Linear(in_features=3072, out_features=768, bias=True)\n",
              "          (4): Dropout(p=0.0, inplace=False)\n",
              "        )\n",
              "      )\n",
              "      (encoder_layer_10): EncoderBlock(\n",
              "        (ln_1): LayerNorm((768,), eps=1e-06, elementwise_affine=True)\n",
              "        (self_attention): MultiheadAttention(\n",
              "          (out_proj): NonDynamicallyQuantizableLinear(in_features=768, out_features=768, bias=True)\n",
              "        )\n",
              "        (dropout): Dropout(p=0.0, inplace=False)\n",
              "        (ln_2): LayerNorm((768,), eps=1e-06, elementwise_affine=True)\n",
              "        (mlp): MLPBlock(\n",
              "          (0): Linear(in_features=768, out_features=3072, bias=True)\n",
              "          (1): GELU(approximate='none')\n",
              "          (2): Dropout(p=0.0, inplace=False)\n",
              "          (3): Linear(in_features=3072, out_features=768, bias=True)\n",
              "          (4): Dropout(p=0.0, inplace=False)\n",
              "        )\n",
              "      )\n",
              "      (encoder_layer_11): EncoderBlock(\n",
              "        (ln_1): LayerNorm((768,), eps=1e-06, elementwise_affine=True)\n",
              "        (self_attention): MultiheadAttention(\n",
              "          (out_proj): NonDynamicallyQuantizableLinear(in_features=768, out_features=768, bias=True)\n",
              "        )\n",
              "        (dropout): Dropout(p=0.0, inplace=False)\n",
              "        (ln_2): LayerNorm((768,), eps=1e-06, elementwise_affine=True)\n",
              "        (mlp): MLPBlock(\n",
              "          (0): Linear(in_features=768, out_features=3072, bias=True)\n",
              "          (1): GELU(approximate='none')\n",
              "          (2): Dropout(p=0.0, inplace=False)\n",
              "          (3): Linear(in_features=3072, out_features=768, bias=True)\n",
              "          (4): Dropout(p=0.0, inplace=False)\n",
              "        )\n",
              "      )\n",
              "    )\n",
              "    (ln): LayerNorm((768,), eps=1e-06, elementwise_affine=True)\n",
              "  )\n",
              "  (heads): Sequential(\n",
              "    (head): Linear(in_features=768, out_features=10, bias=True)\n",
              "  )\n",
              ")"
            ]
          },
          "metadata": {},
          "execution_count": 9
        }
      ]
    },
    {
      "cell_type": "markdown",
      "source": [
        "**Defining the activation function**"
      ],
      "metadata": {
        "id": "3HOTb5W_YIts"
      }
    },
    {
      "cell_type": "code",
      "source": [
        "import matplotlib.pyplot as plt\n",
        "\n",
        "activation = {}\n",
        "def get_activation(name):\n",
        "    def hook(model, input, output):\n",
        "        activation[name] = output.detach()\n",
        "    return hook"
      ],
      "metadata": {
        "id": "5AE37eKzYC8P"
      },
      "execution_count": 13,
      "outputs": []
    },
    {
      "cell_type": "code",
      "source": [
        "for epoch in range(2):\n",
        "    # Training the model\n",
        "    model.train()\n",
        "    for images, labels in train_loader:  # Iterate through DataLoader\n",
        "        images, labels = images.to(device), labels.to(device)\n",
        "        optimizer.zero_grad()\n",
        "        outputs = model(images)\n",
        "        loss = loss_fn(outputs, labels)\n",
        "        loss.backward()\n",
        "        optimizer.step()\n",
        "    print(f'Epochs [{epoch + 1}/{2}]')\n",
        "    print(f'Training Loss: {loss.item():.4f}')"
      ],
      "metadata": {
        "colab": {
          "base_uri": "https://localhost:8080/"
        },
        "id": "gsCJrAAKg3zl",
        "outputId": "3c0d6ef0-bb89-4703-8208-04e5cc9df9ca"
      },
      "execution_count": 10,
      "outputs": [
        {
          "output_type": "stream",
          "name": "stdout",
          "text": [
            "Epochs [1/2]\n",
            "Training Loss: 0.0701\n",
            "Epochs [2/2]\n",
            "Training Loss: 0.0298\n"
          ]
        }
      ]
    },
    {
      "cell_type": "code",
      "source": [
        "# Testing\n",
        "model.eval()\n",
        "actual = 0\n",
        "total = 0"
      ],
      "metadata": {
        "id": "zJ2529XsX2Pp"
      },
      "execution_count": 11,
      "outputs": []
    },
    {
      "cell_type": "code",
      "source": [
        "with torch.no_grad():\n",
        "    for images, labels in test_loader:  # Iterate through your test DataLoader\n",
        "        images, labels = images.to(device), labels.to(device)\n",
        "        outputs = model(images)\n",
        "        _, predicted = torch.max(outputs.data, 1)\n",
        "        total += labels.size(0)\n",
        "        actual += (predicted == labels).sum().item()\n",
        "\n",
        "# Test accuracy\n",
        "test_accuracy = 100 * actual / total\n",
        "print(f'Testing Accuracy: {test_accuracy:.2f}%')"
      ],
      "metadata": {
        "id": "Num7p_CXxjUg",
        "colab": {
          "base_uri": "https://localhost:8080/"
        },
        "outputId": "c9463f57-8ce7-492b-98c7-5f6ccca50beb"
      },
      "execution_count": 12,
      "outputs": [
        {
          "output_type": "stream",
          "name": "stdout",
          "text": [
            "Testing Accuracy: 95.63%\n"
          ]
        }
      ]
    },
    {
      "cell_type": "code",
      "source": [
        "model.encoder.layers.encoder_layer_6.register_forward_hook(get_activation(\"1\"))"
      ],
      "metadata": {
        "id": "Nqhmq4b55Uz3",
        "colab": {
          "base_uri": "https://localhost:8080/"
        },
        "outputId": "69959eeb-bdf0-4539-efc8-63e39a398560"
      },
      "execution_count": 24,
      "outputs": [
        {
          "output_type": "execute_result",
          "data": {
            "text/plain": [
              "<torch.utils.hooks.RemovableHandle at 0x7f180709d150>"
            ]
          },
          "metadata": {},
          "execution_count": 24
        }
      ]
    },
    {
      "cell_type": "code",
      "source": [
        "for i, l in test_loader:\n",
        "  img1 = i\n",
        "  break\n",
        "\n",
        "plt.imshow(img1[10].cpu().detach().numpy().transpose(1,2,0))\n",
        "plt.show()"
      ],
      "metadata": {
        "colab": {
          "base_uri": "https://localhost:8080/",
          "height": 451
        },
        "id": "Vvhl9PKnUXgB",
        "outputId": "4dff4bd9-6f8b-42ec-a814-4d4a0cc523c0"
      },
      "execution_count": 25,
      "outputs": [
        {
          "output_type": "stream",
          "name": "stderr",
          "text": [
            "WARNING:matplotlib.image:Clipping input data to the valid range for imshow with RGB data ([0..1] for floats or [0..255] for integers).\n"
          ]
        },
        {
          "output_type": "display_data",
          "data": {
            "text/plain": [
              "<Figure size 640x480 with 1 Axes>"
            ],
            "image/png": "[encoded data removed]"
          },
          "metadata": {}
        }
      ]
    },
    {
      "cell_type": "code",
      "source": [
        "output = model(img1[0][None,:,:,:].to(device))"
      ],
      "metadata": {
        "id": "b6c9-KTA6Dq5"
      },
      "execution_count": 26,
      "outputs": []
    },
    {
      "cell_type": "code",
      "source": [
        "a = activation[\"1\"][0,:,:][1:,:]\n",
        "img = a[:, 3:6].reshape(7,7,3)\n",
        "plt.figure(figsize=(3,3))\n",
        "plt.imshow(img.cpu().detach().numpy())"
      ],
      "metadata": {
        "colab": {
          "base_uri": "https://localhost:8080/",
          "height": 326
        },
        "id": "nTXyRMXX6YAh",
        "outputId": "5df572b9-aab5-4c48-9eec-713a668ab46b"
      },
      "execution_count": 28,
      "outputs": [
        {
          "output_type": "stream",
          "name": "stderr",
          "text": [
            "WARNING:matplotlib.image:Clipping input data to the valid range for imshow with RGB data ([0..1] for floats or [0..255] for integers).\n"
          ]
        },
        {
          "output_type": "execute_result",
          "data": {
            "text/plain": [
              "<matplotlib.image.AxesImage at 0x7f1806da4c40>"
            ]
          },
          "metadata": {},
          "execution_count": 28
        },
        {
          "output_type": "display_data",
          "data": {
            "text/plain": [
              "<Figure size 300x300 with 1 Axes>"
            ],
            "image/png": "[encoded data removed]"
          },
          "metadata": {}
        }
      ]
    },
    {
      "cell_type": "markdown",
      "source": [
        "**NOW WE WILL JUST RUN THE ABOVE CODE FOR ALL 3 OTHER CASES AFTER CHANGING THE TRAINABLE LAYERS**"
      ],
      "metadata": {
        "id": "ck72ys8svfSW"
      }
    },
    {
      "cell_type": "markdown",
      "source": [
        "## 2. Finetuning the bottom layers"
      ],
      "metadata": {
        "id": "dfZoAtGc3Rbo"
      }
    },
    {
      "cell_type": "code",
      "source": [
        "model = vision_transformer.vit_b_16(pretrained=True)\n",
        "model.heads.head = nn.Linear(in_features=768,out_features=10,bias=True)\n",
        "\n",
        "for param in model.parameters():\n",
        "    param.requires_grad = True\n",
        "\n",
        "for param in model.heads.head.parameters():\n",
        "    param.requires_grad = False\n",
        "\n",
        "model.to(device)"
      ],
      "metadata": {
        "id": "VEn1CTr_5HJg",
        "colab": {
          "base_uri": "https://localhost:8080/"
        },
        "outputId": "4891889f-e931-458c-b4c9-f74b00650e77"
      },
      "execution_count": 48,
      "outputs": [
        {
          "output_type": "execute_result",
          "data": {
            "text/plain": [
              "VisionTransformer(\n",
              "  (conv_proj): Conv2d(3, 768, kernel_size=(16, 16), stride=(16, 16))\n",
              "  (encoder): Encoder(\n",
              "    (dropout): Dropout(p=0.0, inplace=False)\n",
              "    (layers): Sequential(\n",
              "      (encoder_layer_0): EncoderBlock(\n",
              "        (ln_1): LayerNorm((768,), eps=1e-06, elementwise_affine=True)\n",
              "        (self_attention): MultiheadAttention(\n",
              "          (out_proj): NonDynamicallyQuantizableLinear(in_features=768, out_features=768, bias=True)\n",
              "        )\n",
              "        (dropout): Dropout(p=0.0, inplace=False)\n",
              "        (ln_2): LayerNorm((768,), eps=1e-06, elementwise_affine=True)\n",
              "        (mlp): MLPBlock(\n",
              "          (0): Linear(in_features=768, out_features=3072, bias=True)\n",
              "          (1): GELU(approximate='none')\n",
              "          (2): Dropout(p=0.0, inplace=False)\n",
              "          (3): Linear(in_features=3072, out_features=768, bias=True)\n",
              "          (4): Dropout(p=0.0, inplace=False)\n",
              "        )\n",
              "      )\n",
              "      (encoder_layer_1): EncoderBlock(\n",
              "        (ln_1): LayerNorm((768,), eps=1e-06, elementwise_affine=True)\n",
              "        (self_attention): MultiheadAttention(\n",
              "          (out_proj): NonDynamicallyQuantizableLinear(in_features=768, out_features=768, bias=True)\n",
              "        )\n",
              "        (dropout): Dropout(p=0.0, inplace=False)\n",
              "        (ln_2): LayerNorm((768,), eps=1e-06, elementwise_affine=True)\n",
              "        (mlp): MLPBlock(\n",
              "          (0): Linear(in_features=768, out_features=3072, bias=True)\n",
              "          (1): GELU(approximate='none')\n",
              "          (2): Dropout(p=0.0, inplace=False)\n",
              "          (3): Linear(in_features=3072, out_features=768, bias=True)\n",
              "          (4): Dropout(p=0.0, inplace=False)\n",
              "        )\n",
              "      )\n",
              "      (encoder_layer_2): EncoderBlock(\n",
              "        (ln_1): LayerNorm((768,), eps=1e-06, elementwise_affine=True)\n",
              "        (self_attention): MultiheadAttention(\n",
              "          (out_proj): NonDynamicallyQuantizableLinear(in_features=768, out_features=768, bias=True)\n",
              "        )\n",
              "        (dropout): Dropout(p=0.0, inplace=False)\n",
              "        (ln_2): LayerNorm((768,), eps=1e-06, elementwise_affine=True)\n",
              "        (mlp): MLPBlock(\n",
              "          (0): Linear(in_features=768, out_features=3072, bias=True)\n",
              "          (1): GELU(approximate='none')\n",
              "          (2): Dropout(p=0.0, inplace=False)\n",
              "          (3): Linear(in_features=3072, out_features=768, bias=True)\n",
              "          (4): Dropout(p=0.0, inplace=False)\n",
              "        )\n",
              "      )\n",
              "      (encoder_layer_3): EncoderBlock(\n",
              "        (ln_1): LayerNorm((768,), eps=1e-06, elementwise_affine=True)\n",
              "        (self_attention): MultiheadAttention(\n",
              "          (out_proj): NonDynamicallyQuantizableLinear(in_features=768, out_features=768, bias=True)\n",
              "        )\n",
              "        (dropout): Dropout(p=0.0, inplace=False)\n",
              "        (ln_2): LayerNorm((768,), eps=1e-06, elementwise_affine=True)\n",
              "        (mlp): MLPBlock(\n",
              "          (0): Linear(in_features=768, out_features=3072, bias=True)\n",
              "          (1): GELU(approximate='none')\n",
              "          (2): Dropout(p=0.0, inplace=False)\n",
              "          (3): Linear(in_features=3072, out_features=768, bias=True)\n",
              "          (4): Dropout(p=0.0, inplace=False)\n",
              "        )\n",
              "      )\n",
              "      (encoder_layer_4): EncoderBlock(\n",
              "        (ln_1): LayerNorm((768,), eps=1e-06, elementwise_affine=True)\n",
              "        (self_attention): MultiheadAttention(\n",
              "          (out_proj): NonDynamicallyQuantizableLinear(in_features=768, out_features=768, bias=True)\n",
              "        )\n",
              "        (dropout): Dropout(p=0.0, inplace=False)\n",
              "        (ln_2): LayerNorm((768,), eps=1e-06, elementwise_affine=True)\n",
              "        (mlp): MLPBlock(\n",
              "          (0): Linear(in_features=768, out_features=3072, bias=True)\n",
              "          (1): GELU(approximate='none')\n",
              "          (2): Dropout(p=0.0, inplace=False)\n",
              "          (3): Linear(in_features=3072, out_features=768, bias=True)\n",
              "          (4): Dropout(p=0.0, inplace=False)\n",
              "        )\n",
              "      )\n",
              "      (encoder_layer_5): EncoderBlock(\n",
              "        (ln_1): LayerNorm((768,), eps=1e-06, elementwise_affine=True)\n",
              "        (self_attention): MultiheadAttention(\n",
              "          (out_proj): NonDynamicallyQuantizableLinear(in_features=768, out_features=768, bias=True)\n",
              "        )\n",
              "        (dropout): Dropout(p=0.0, inplace=False)\n",
              "        (ln_2): LayerNorm((768,), eps=1e-06, elementwise_affine=True)\n",
              "        (mlp): MLPBlock(\n",
              "          (0): Linear(in_features=768, out_features=3072, bias=True)\n",
              "          (1): GELU(approximate='none')\n",
              "          (2): Dropout(p=0.0, inplace=False)\n",
              "          (3): Linear(in_features=3072, out_features=768, bias=True)\n",
              "          (4): Dropout(p=0.0, inplace=False)\n",
              "        )\n",
              "      )\n",
              "      (encoder_layer_6): EncoderBlock(\n",
              "        (ln_1): LayerNorm((768,), eps=1e-06, elementwise_affine=True)\n",
              "        (self_attention): MultiheadAttention(\n",
              "          (out_proj): NonDynamicallyQuantizableLinear(in_features=768, out_features=768, bias=True)\n",
              "        )\n",
              "        (dropout): Dropout(p=0.0, inplace=False)\n",
              "        (ln_2): LayerNorm((768,), eps=1e-06, elementwise_affine=True)\n",
              "        (mlp): MLPBlock(\n",
              "          (0): Linear(in_features=768, out_features=3072, bias=True)\n",
              "          (1): GELU(approximate='none')\n",
              "          (2): Dropout(p=0.0, inplace=False)\n",
              "          (3): Linear(in_features=3072, out_features=768, bias=True)\n",
              "          (4): Dropout(p=0.0, inplace=False)\n",
              "        )\n",
              "      )\n",
              "      (encoder_layer_7): EncoderBlock(\n",
              "        (ln_1): LayerNorm((768,), eps=1e-06, elementwise_affine=True)\n",
              "        (self_attention): MultiheadAttention(\n",
              "          (out_proj): NonDynamicallyQuantizableLinear(in_features=768, out_features=768, bias=True)\n",
              "        )\n",
              "        (dropout): Dropout(p=0.0, inplace=False)\n",
              "        (ln_2): LayerNorm((768,), eps=1e-06, elementwise_affine=True)\n",
              "        (mlp): MLPBlock(\n",
              "          (0): Linear(in_features=768, out_features=3072, bias=True)\n",
              "          (1): GELU(approximate='none')\n",
              "          (2): Dropout(p=0.0, inplace=False)\n",
              "          (3): Linear(in_features=3072, out_features=768, bias=True)\n",
              "          (4): Dropout(p=0.0, inplace=False)\n",
              "        )\n",
              "      )\n",
              "      (encoder_layer_8): EncoderBlock(\n",
              "        (ln_1): LayerNorm((768,), eps=1e-06, elementwise_affine=True)\n",
              "        (self_attention): MultiheadAttention(\n",
              "          (out_proj): NonDynamicallyQuantizableLinear(in_features=768, out_features=768, bias=True)\n",
              "        )\n",
              "        (dropout): Dropout(p=0.0, inplace=False)\n",
              "        (ln_2): LayerNorm((768,), eps=1e-06, elementwise_affine=True)\n",
              "        (mlp): MLPBlock(\n",
              "          (0): Linear(in_features=768, out_features=3072, bias=True)\n",
              "          (1): GELU(approximate='none')\n",
              "          (2): Dropout(p=0.0, inplace=False)\n",
              "          (3): Linear(in_features=3072, out_features=768, bias=True)\n",
              "          (4): Dropout(p=0.0, inplace=False)\n",
              "        )\n",
              "      )\n",
              "      (encoder_layer_9): EncoderBlock(\n",
              "        (ln_1): LayerNorm((768,), eps=1e-06, elementwise_affine=True)\n",
              "        (self_attention): MultiheadAttention(\n",
              "          (out_proj): NonDynamicallyQuantizableLinear(in_features=768, out_features=768, bias=True)\n",
              "        )\n",
              "        (dropout): Dropout(p=0.0, inplace=False)\n",
              "        (ln_2): LayerNorm((768,), eps=1e-06, elementwise_affine=True)\n",
              "        (mlp): MLPBlock(\n",
              "          (0): Linear(in_features=768, out_features=3072, bias=True)\n",
              "          (1): GELU(approximate='none')\n",
              "          (2): Dropout(p=0.0, inplace=False)\n",
              "          (3): Linear(in_features=3072, out_features=768, bias=True)\n",
              "          (4): Dropout(p=0.0, inplace=False)\n",
              "        )\n",
              "      )\n",
              "      (encoder_layer_10): EncoderBlock(\n",
              "        (ln_1): LayerNorm((768,), eps=1e-06, elementwise_affine=True)\n",
              "        (self_attention): MultiheadAttention(\n",
              "          (out_proj): NonDynamicallyQuantizableLinear(in_features=768, out_features=768, bias=True)\n",
              "        )\n",
              "        (dropout): Dropout(p=0.0, inplace=False)\n",
              "        (ln_2): LayerNorm((768,), eps=1e-06, elementwise_affine=True)\n",
              "        (mlp): MLPBlock(\n",
              "          (0): Linear(in_features=768, out_features=3072, bias=True)\n",
              "          (1): GELU(approximate='none')\n",
              "          (2): Dropout(p=0.0, inplace=False)\n",
              "          (3): Linear(in_features=3072, out_features=768, bias=True)\n",
              "          (4): Dropout(p=0.0, inplace=False)\n",
              "        )\n",
              "      )\n",
              "      (encoder_layer_11): EncoderBlock(\n",
              "        (ln_1): LayerNorm((768,), eps=1e-06, elementwise_affine=True)\n",
              "        (self_attention): MultiheadAttention(\n",
              "          (out_proj): NonDynamicallyQuantizableLinear(in_features=768, out_features=768, bias=True)\n",
              "        )\n",
              "        (dropout): Dropout(p=0.0, inplace=False)\n",
              "        (ln_2): LayerNorm((768,), eps=1e-06, elementwise_affine=True)\n",
              "        (mlp): MLPBlock(\n",
              "          (0): Linear(in_features=768, out_features=3072, bias=True)\n",
              "          (1): GELU(approximate='none')\n",
              "          (2): Dropout(p=0.0, inplace=False)\n",
              "          (3): Linear(in_features=3072, out_features=768, bias=True)\n",
              "          (4): Dropout(p=0.0, inplace=False)\n",
              "        )\n",
              "      )\n",
              "    )\n",
              "    (ln): LayerNorm((768,), eps=1e-06, elementwise_affine=True)\n",
              "  )\n",
              "  (heads): Sequential(\n",
              "    (head): Linear(in_features=768, out_features=10, bias=True)\n",
              "  )\n",
              ")"
            ]
          },
          "metadata": {},
          "execution_count": 48
        }
      ]
    },
    {
      "cell_type": "code",
      "source": [
        "for name, param in model.named_parameters():\n",
        "  print(name, param.requires_grad)"
      ],
      "metadata": {
        "colab": {
          "base_uri": "https://localhost:8080/"
        },
        "id": "7rnOi_t4bM4Z",
        "outputId": "cf6a929e-eb8e-4e92-935a-ea6257e8465b"
      },
      "execution_count": 49,
      "outputs": [
        {
          "output_type": "stream",
          "name": "stdout",
          "text": [
            "class_token True\n",
            "conv_proj.weight True\n",
            "conv_proj.bias True\n",
            "encoder.pos_embedding True\n",
            "encoder.layers.encoder_layer_0.ln_1.weight True\n",
            "encoder.layers.encoder_layer_0.ln_1.bias True\n",
            "encoder.layers.encoder_layer_0.self_attention.in_proj_weight True\n",
            "encoder.layers.encoder_layer_0.self_attention.in_proj_bias True\n",
            "encoder.layers.encoder_layer_0.self_attention.out_proj.weight True\n",
            "encoder.layers.encoder_layer_0.self_attention.out_proj.bias True\n",
            "encoder.layers.encoder_layer_0.ln_2.weight True\n",
            "encoder.layers.encoder_layer_0.ln_2.bias True\n",
            "encoder.layers.encoder_layer_0.mlp.0.weight True\n",
            "encoder.layers.encoder_layer_0.mlp.0.bias True\n",
            "encoder.layers.encoder_layer_0.mlp.3.weight True\n",
            "encoder.layers.encoder_layer_0.mlp.3.bias True\n",
            "encoder.layers.encoder_layer_1.ln_1.weight True\n",
            "encoder.layers.encoder_layer_1.ln_1.bias True\n",
            "encoder.layers.encoder_layer_1.self_attention.in_proj_weight True\n",
            "encoder.layers.encoder_layer_1.self_attention.in_proj_bias True\n",
            "encoder.layers.encoder_layer_1.self_attention.out_proj.weight True\n",
            "encoder.layers.encoder_layer_1.self_attention.out_proj.bias True\n",
            "encoder.layers.encoder_layer_1.ln_2.weight True\n",
            "encoder.layers.encoder_layer_1.ln_2.bias True\n",
            "encoder.layers.encoder_layer_1.mlp.0.weight True\n",
            "encoder.layers.encoder_layer_1.mlp.0.bias True\n",
            "encoder.layers.encoder_layer_1.mlp.3.weight True\n",
            "encoder.layers.encoder_layer_1.mlp.3.bias True\n",
            "encoder.layers.encoder_layer_2.ln_1.weight True\n",
            "encoder.layers.encoder_layer_2.ln_1.bias True\n",
            "encoder.layers.encoder_layer_2.self_attention.in_proj_weight True\n",
            "encoder.layers.encoder_layer_2.self_attention.in_proj_bias True\n",
            "encoder.layers.encoder_layer_2.self_attention.out_proj.weight True\n",
            "encoder.layers.encoder_layer_2.self_attention.out_proj.bias True\n",
            "encoder.layers.encoder_layer_2.ln_2.weight True\n",
            "encoder.layers.encoder_layer_2.ln_2.bias True\n",
            "encoder.layers.encoder_layer_2.mlp.0.weight True\n",
            "encoder.layers.encoder_layer_2.mlp.0.bias True\n",
            "encoder.layers.encoder_layer_2.mlp.3.weight True\n",
            "encoder.layers.encoder_layer_2.mlp.3.bias True\n",
            "encoder.layers.encoder_layer_3.ln_1.weight True\n",
            "encoder.layers.encoder_layer_3.ln_1.bias True\n",
            "encoder.layers.encoder_layer_3.self_attention.in_proj_weight True\n",
            "encoder.layers.encoder_layer_3.self_attention.in_proj_bias True\n",
            "encoder.layers.encoder_layer_3.self_attention.out_proj.weight True\n",
            "encoder.layers.encoder_layer_3.self_attention.out_proj.bias True\n",
            "encoder.layers.encoder_layer_3.ln_2.weight True\n",
            "encoder.layers.encoder_layer_3.ln_2.bias True\n",
            "encoder.layers.encoder_layer_3.mlp.0.weight True\n",
            "encoder.layers.encoder_layer_3.mlp.0.bias True\n",
            "encoder.layers.encoder_layer_3.mlp.3.weight True\n",
            "encoder.layers.encoder_layer_3.mlp.3.bias True\n",
            "encoder.layers.encoder_layer_4.ln_1.weight True\n",
            "encoder.layers.encoder_layer_4.ln_1.bias True\n",
            "encoder.layers.encoder_layer_4.self_attention.in_proj_weight True\n",
            "encoder.layers.encoder_layer_4.self_attention.in_proj_bias True\n",
            "encoder.layers.encoder_layer_4.self_attention.out_proj.weight True\n",
            "encoder.layers.encoder_layer_4.self_attention.out_proj.bias True\n",
            "encoder.layers.encoder_layer_4.ln_2.weight True\n",
            "encoder.layers.encoder_layer_4.ln_2.bias True\n",
            "encoder.layers.encoder_layer_4.mlp.0.weight True\n",
            "encoder.layers.encoder_layer_4.mlp.0.bias True\n",
            "encoder.layers.encoder_layer_4.mlp.3.weight True\n",
            "encoder.layers.encoder_layer_4.mlp.3.bias True\n",
            "encoder.layers.encoder_layer_5.ln_1.weight True\n",
            "encoder.layers.encoder_layer_5.ln_1.bias True\n",
            "encoder.layers.encoder_layer_5.self_attention.in_proj_weight True\n",
            "encoder.layers.encoder_layer_5.self_attention.in_proj_bias True\n",
            "encoder.layers.encoder_layer_5.self_attention.out_proj.weight True\n",
            "encoder.layers.encoder_layer_5.self_attention.out_proj.bias True\n",
            "encoder.layers.encoder_layer_5.ln_2.weight True\n",
            "encoder.layers.encoder_layer_5.ln_2.bias True\n",
            "encoder.layers.encoder_layer_5.mlp.0.weight True\n",
            "encoder.layers.encoder_layer_5.mlp.0.bias True\n",
            "encoder.layers.encoder_layer_5.mlp.3.weight True\n",
            "encoder.layers.encoder_layer_5.mlp.3.bias True\n",
            "encoder.layers.encoder_layer_6.ln_1.weight True\n",
            "encoder.layers.encoder_layer_6.ln_1.bias True\n",
            "encoder.layers.encoder_layer_6.self_attention.in_proj_weight True\n",
            "encoder.layers.encoder_layer_6.self_attention.in_proj_bias True\n",
            "encoder.layers.encoder_layer_6.self_attention.out_proj.weight True\n",
            "encoder.layers.encoder_layer_6.self_attention.out_proj.bias True\n",
            "encoder.layers.encoder_layer_6.ln_2.weight True\n",
            "encoder.layers.encoder_layer_6.ln_2.bias True\n",
            "encoder.layers.encoder_layer_6.mlp.0.weight True\n",
            "encoder.layers.encoder_layer_6.mlp.0.bias True\n",
            "encoder.layers.encoder_layer_6.mlp.3.weight True\n",
            "encoder.layers.encoder_layer_6.mlp.3.bias True\n",
            "encoder.layers.encoder_layer_7.ln_1.weight True\n",
            "encoder.layers.encoder_layer_7.ln_1.bias True\n",
            "encoder.layers.encoder_layer_7.self_attention.in_proj_weight True\n",
            "encoder.layers.encoder_layer_7.self_attention.in_proj_bias True\n",
            "encoder.layers.encoder_layer_7.self_attention.out_proj.weight True\n",
            "encoder.layers.encoder_layer_7.self_attention.out_proj.bias True\n",
            "encoder.layers.encoder_layer_7.ln_2.weight True\n",
            "encoder.layers.encoder_layer_7.ln_2.bias True\n",
            "encoder.layers.encoder_layer_7.mlp.0.weight True\n",
            "encoder.layers.encoder_layer_7.mlp.0.bias True\n",
            "encoder.layers.encoder_layer_7.mlp.3.weight True\n",
            "encoder.layers.encoder_layer_7.mlp.3.bias True\n",
            "encoder.layers.encoder_layer_8.ln_1.weight True\n",
            "encoder.layers.encoder_layer_8.ln_1.bias True\n",
            "encoder.layers.encoder_layer_8.self_attention.in_proj_weight True\n",
            "encoder.layers.encoder_layer_8.self_attention.in_proj_bias True\n",
            "encoder.layers.encoder_layer_8.self_attention.out_proj.weight True\n",
            "encoder.layers.encoder_layer_8.self_attention.out_proj.bias True\n",
            "encoder.layers.encoder_layer_8.ln_2.weight True\n",
            "encoder.layers.encoder_layer_8.ln_2.bias True\n",
            "encoder.layers.encoder_layer_8.mlp.0.weight True\n",
            "encoder.layers.encoder_layer_8.mlp.0.bias True\n",
            "encoder.layers.encoder_layer_8.mlp.3.weight True\n",
            "encoder.layers.encoder_layer_8.mlp.3.bias True\n",
            "encoder.layers.encoder_layer_9.ln_1.weight True\n",
            "encoder.layers.encoder_layer_9.ln_1.bias True\n",
            "encoder.layers.encoder_layer_9.self_attention.in_proj_weight True\n",
            "encoder.layers.encoder_layer_9.self_attention.in_proj_bias True\n",
            "encoder.layers.encoder_layer_9.self_attention.out_proj.weight True\n",
            "encoder.layers.encoder_layer_9.self_attention.out_proj.bias True\n",
            "encoder.layers.encoder_layer_9.ln_2.weight True\n",
            "encoder.layers.encoder_layer_9.ln_2.bias True\n",
            "encoder.layers.encoder_layer_9.mlp.0.weight True\n",
            "encoder.layers.encoder_layer_9.mlp.0.bias True\n",
            "encoder.layers.encoder_layer_9.mlp.3.weight True\n",
            "encoder.layers.encoder_layer_9.mlp.3.bias True\n",
            "encoder.layers.encoder_layer_10.ln_1.weight True\n",
            "encoder.layers.encoder_layer_10.ln_1.bias True\n",
            "encoder.layers.encoder_layer_10.self_attention.in_proj_weight True\n",
            "encoder.layers.encoder_layer_10.self_attention.in_proj_bias True\n",
            "encoder.layers.encoder_layer_10.self_attention.out_proj.weight True\n",
            "encoder.layers.encoder_layer_10.self_attention.out_proj.bias True\n",
            "encoder.layers.encoder_layer_10.ln_2.weight True\n",
            "encoder.layers.encoder_layer_10.ln_2.bias True\n",
            "encoder.layers.encoder_layer_10.mlp.0.weight True\n",
            "encoder.layers.encoder_layer_10.mlp.0.bias True\n",
            "encoder.layers.encoder_layer_10.mlp.3.weight True\n",
            "encoder.layers.encoder_layer_10.mlp.3.bias True\n",
            "encoder.layers.encoder_layer_11.ln_1.weight True\n",
            "encoder.layers.encoder_layer_11.ln_1.bias True\n",
            "encoder.layers.encoder_layer_11.self_attention.in_proj_weight True\n",
            "encoder.layers.encoder_layer_11.self_attention.in_proj_bias True\n",
            "encoder.layers.encoder_layer_11.self_attention.out_proj.weight True\n",
            "encoder.layers.encoder_layer_11.self_attention.out_proj.bias True\n",
            "encoder.layers.encoder_layer_11.ln_2.weight True\n",
            "encoder.layers.encoder_layer_11.ln_2.bias True\n",
            "encoder.layers.encoder_layer_11.mlp.0.weight True\n",
            "encoder.layers.encoder_layer_11.mlp.0.bias True\n",
            "encoder.layers.encoder_layer_11.mlp.3.weight True\n",
            "encoder.layers.encoder_layer_11.mlp.3.bias True\n",
            "encoder.ln.weight True\n",
            "encoder.ln.bias True\n",
            "heads.head.weight False\n",
            "heads.head.bias False\n"
          ]
        }
      ]
    },
    {
      "cell_type": "code",
      "source": [
        "for epoch in range(2):\n",
        "    # Training\n",
        "    model.train()\n",
        "    for images, labels in train_loader:\n",
        "        images, labels = images.to(device), labels.to(device)\n",
        "        optimizer.zero_grad()\n",
        "        outputs = model(images)\n",
        "        loss = loss_fn(outputs, labels)\n",
        "        loss.backward()\n",
        "        optimizer.step()\n",
        "    print(f'Epochs [{epoch + 1}/{2}]')\n",
        "    print(f'Training Loss: {loss.item():.4f}')\n",
        "\n",
        "# Testing\n",
        "model.eval()\n",
        "actual = 0\n",
        "total = 0\n",
        "with torch.no_grad():\n",
        "    for images, labels in test_loader:\n",
        "        images, labels = images.to(device), labels.to(device)\n",
        "        outputs = model(images)\n",
        "        _, predicted = torch.max(outputs.data, 1)\n",
        "        total += labels.size(0)\n",
        "        actual += (predicted == labels).sum().item()\n",
        "\n",
        "# Test accuracy\n",
        "test_accuracy = 100 * actual / total\n",
        "print(f'Testing Accuracy: {test_accuracy:.2f}%')\n",
        "\n",
        "activation = {}\n",
        "def get_activation(name):\n",
        "    def hook(model, input, output):\n",
        "        activation[name] = output.detach()\n",
        "    return hook\n",
        "\n",
        "model.encoder.layers.encoder_layer_6.register_forward_hook(get_activation(\"2\"))\n",
        "for i, l in test_loader:\n",
        "  img1 = i\n",
        "  break\n",
        "\n",
        "plt.imshow(img1[10].cpu().detach().numpy().transpose(1,2,0))\n",
        "plt.show()\n",
        "\n",
        "output = model(img1[0][None,:,:,:].to(device))\n",
        "\n",
        "a = activation[\"2\"][0,:,:][1:,:]\n",
        "img = a[:, 3:6].reshape(14,14,3)\n",
        "plt.figure(figsize=(3,3))\n",
        "plt.imshow(img.cpu().detach().numpy())"
      ],
      "metadata": {
        "id": "rNExqm425Uxb",
        "colab": {
          "base_uri": "https://localhost:8080/",
          "height": 847
        },
        "outputId": "12067496-488b-4336-9c70-6bfad3afe7ed"
      },
      "execution_count": 50,
      "outputs": [
        {
          "output_type": "stream",
          "name": "stdout",
          "text": [
            "Epochs [1/2]\n",
            "Training Loss: 2.4217\n",
            "Epochs [2/2]\n",
            "Training Loss: 2.2437\n"
          ]
        },
        {
          "output_type": "stream",
          "name": "stderr",
          "text": [
            "WARNING:matplotlib.image:Clipping input data to the valid range for imshow with RGB data ([0..1] for floats or [0..255] for integers).\n"
          ]
        },
        {
          "output_type": "stream",
          "name": "stdout",
          "text": [
            "Testing Accuracy: 6.79%\n"
          ]
        },
        {
          "output_type": "display_data",
          "data": {
            "text/plain": [
              "<Figure size 640x480 with 1 Axes>"
            ],
            "image/png": "[encoded data removed]"
          },
          "metadata": {}
        },
        {
          "output_type": "stream",
          "name": "stderr",
          "text": [
            "WARNING:matplotlib.image:Clipping input data to the valid range for imshow with RGB data ([0..1] for floats or [0..255] for integers).\n"
          ]
        },
        {
          "output_type": "execute_result",
          "data": {
            "text/plain": [
              "<matplotlib.image.AxesImage at 0x7f1806d1aa70>"
            ]
          },
          "metadata": {},
          "execution_count": 50
        },
        {
          "output_type": "display_data",
          "data": {
            "text/plain": [
              "<Figure size 300x300 with 1 Axes>"
            ],
            "image/png": "[encoded data removed]"
          },
          "metadata": {}
        }
      ]
    },
    {
      "cell_type": "markdown",
      "source": [
        "## 3. Full fine tune on the eurosat data"
      ],
      "metadata": {
        "id": "pwFYLUcX_1Z8"
      }
    },
    {
      "cell_type": "code",
      "source": [
        "model = vision_transformer.vit_b_16(pretrained=True)\n",
        "model.heads.head = nn.Linear(in_features=768,out_features=10,bias=True)\n",
        "\n",
        "for param in model.parameters():\n",
        "    param.requires_grad = True\n",
        "\n",
        "model.to(device)"
      ],
      "metadata": {
        "colab": {
          "base_uri": "https://localhost:8080/"
        },
        "id": "eQ9bh35u_U2r",
        "outputId": "72d5f45b-0640-4be1-a66c-3e94e044fddd"
      },
      "execution_count": 38,
      "outputs": [
        {
          "output_type": "execute_result",
          "data": {
            "text/plain": [
              "VisionTransformer(\n",
              "  (conv_proj): Conv2d(3, 768, kernel_size=(16, 16), stride=(16, 16))\n",
              "  (encoder): Encoder(\n",
              "    (dropout): Dropout(p=0.0, inplace=False)\n",
              "    (layers): Sequential(\n",
              "      (encoder_layer_0): EncoderBlock(\n",
              "        (ln_1): LayerNorm((768,), eps=1e-06, elementwise_affine=True)\n",
              "        (self_attention): MultiheadAttention(\n",
              "          (out_proj): NonDynamicallyQuantizableLinear(in_features=768, out_features=768, bias=True)\n",
              "        )\n",
              "        (dropout): Dropout(p=0.0, inplace=False)\n",
              "        (ln_2): LayerNorm((768,), eps=1e-06, elementwise_affine=True)\n",
              "        (mlp): MLPBlock(\n",
              "          (0): Linear(in_features=768, out_features=3072, bias=True)\n",
              "          (1): GELU(approximate='none')\n",
              "          (2): Dropout(p=0.0, inplace=False)\n",
              "          (3): Linear(in_features=3072, out_features=768, bias=True)\n",
              "          (4): Dropout(p=0.0, inplace=False)\n",
              "        )\n",
              "      )\n",
              "      (encoder_layer_1): EncoderBlock(\n",
              "        (ln_1): LayerNorm((768,), eps=1e-06, elementwise_affine=True)\n",
              "        (self_attention): MultiheadAttention(\n",
              "          (out_proj): NonDynamicallyQuantizableLinear(in_features=768, out_features=768, bias=True)\n",
              "        )\n",
              "        (dropout): Dropout(p=0.0, inplace=False)\n",
              "        (ln_2): LayerNorm((768,), eps=1e-06, elementwise_affine=True)\n",
              "        (mlp): MLPBlock(\n",
              "          (0): Linear(in_features=768, out_features=3072, bias=True)\n",
              "          (1): GELU(approximate='none')\n",
              "          (2): Dropout(p=0.0, inplace=False)\n",
              "          (3): Linear(in_features=3072, out_features=768, bias=True)\n",
              "          (4): Dropout(p=0.0, inplace=False)\n",
              "        )\n",
              "      )\n",
              "      (encoder_layer_2): EncoderBlock(\n",
              "        (ln_1): LayerNorm((768,), eps=1e-06, elementwise_affine=True)\n",
              "        (self_attention): MultiheadAttention(\n",
              "          (out_proj): NonDynamicallyQuantizableLinear(in_features=768, out_features=768, bias=True)\n",
              "        )\n",
              "        (dropout): Dropout(p=0.0, inplace=False)\n",
              "        (ln_2): LayerNorm((768,), eps=1e-06, elementwise_affine=True)\n",
              "        (mlp): MLPBlock(\n",
              "          (0): Linear(in_features=768, out_features=3072, bias=True)\n",
              "          (1): GELU(approximate='none')\n",
              "          (2): Dropout(p=0.0, inplace=False)\n",
              "          (3): Linear(in_features=3072, out_features=768, bias=True)\n",
              "          (4): Dropout(p=0.0, inplace=False)\n",
              "        )\n",
              "      )\n",
              "      (encoder_layer_3): EncoderBlock(\n",
              "        (ln_1): LayerNorm((768,), eps=1e-06, elementwise_affine=True)\n",
              "        (self_attention): MultiheadAttention(\n",
              "          (out_proj): NonDynamicallyQuantizableLinear(in_features=768, out_features=768, bias=True)\n",
              "        )\n",
              "        (dropout): Dropout(p=0.0, inplace=False)\n",
              "        (ln_2): LayerNorm((768,), eps=1e-06, elementwise_affine=True)\n",
              "        (mlp): MLPBlock(\n",
              "          (0): Linear(in_features=768, out_features=3072, bias=True)\n",
              "          (1): GELU(approximate='none')\n",
              "          (2): Dropout(p=0.0, inplace=False)\n",
              "          (3): Linear(in_features=3072, out_features=768, bias=True)\n",
              "          (4): Dropout(p=0.0, inplace=False)\n",
              "        )\n",
              "      )\n",
              "      (encoder_layer_4): EncoderBlock(\n",
              "        (ln_1): LayerNorm((768,), eps=1e-06, elementwise_affine=True)\n",
              "        (self_attention): MultiheadAttention(\n",
              "          (out_proj): NonDynamicallyQuantizableLinear(in_features=768, out_features=768, bias=True)\n",
              "        )\n",
              "        (dropout): Dropout(p=0.0, inplace=False)\n",
              "        (ln_2): LayerNorm((768,), eps=1e-06, elementwise_affine=True)\n",
              "        (mlp): MLPBlock(\n",
              "          (0): Linear(in_features=768, out_features=3072, bias=True)\n",
              "          (1): GELU(approximate='none')\n",
              "          (2): Dropout(p=0.0, inplace=False)\n",
              "          (3): Linear(in_features=3072, out_features=768, bias=True)\n",
              "          (4): Dropout(p=0.0, inplace=False)\n",
              "        )\n",
              "      )\n",
              "      (encoder_layer_5): EncoderBlock(\n",
              "        (ln_1): LayerNorm((768,), eps=1e-06, elementwise_affine=True)\n",
              "        (self_attention): MultiheadAttention(\n",
              "          (out_proj): NonDynamicallyQuantizableLinear(in_features=768, out_features=768, bias=True)\n",
              "        )\n",
              "        (dropout): Dropout(p=0.0, inplace=False)\n",
              "        (ln_2): LayerNorm((768,), eps=1e-06, elementwise_affine=True)\n",
              "        (mlp): MLPBlock(\n",
              "          (0): Linear(in_features=768, out_features=3072, bias=True)\n",
              "          (1): GELU(approximate='none')\n",
              "          (2): Dropout(p=0.0, inplace=False)\n",
              "          (3): Linear(in_features=3072, out_features=768, bias=True)\n",
              "          (4): Dropout(p=0.0, inplace=False)\n",
              "        )\n",
              "      )\n",
              "      (encoder_layer_6): EncoderBlock(\n",
              "        (ln_1): LayerNorm((768,), eps=1e-06, elementwise_affine=True)\n",
              "        (self_attention): MultiheadAttention(\n",
              "          (out_proj): NonDynamicallyQuantizableLinear(in_features=768, out_features=768, bias=True)\n",
              "        )\n",
              "        (dropout): Dropout(p=0.0, inplace=False)\n",
              "        (ln_2): LayerNorm((768,), eps=1e-06, elementwise_affine=True)\n",
              "        (mlp): MLPBlock(\n",
              "          (0): Linear(in_features=768, out_features=3072, bias=True)\n",
              "          (1): GELU(approximate='none')\n",
              "          (2): Dropout(p=0.0, inplace=False)\n",
              "          (3): Linear(in_features=3072, out_features=768, bias=True)\n",
              "          (4): Dropout(p=0.0, inplace=False)\n",
              "        )\n",
              "      )\n",
              "      (encoder_layer_7): EncoderBlock(\n",
              "        (ln_1): LayerNorm((768,), eps=1e-06, elementwise_affine=True)\n",
              "        (self_attention): MultiheadAttention(\n",
              "          (out_proj): NonDynamicallyQuantizableLinear(in_features=768, out_features=768, bias=True)\n",
              "        )\n",
              "        (dropout): Dropout(p=0.0, inplace=False)\n",
              "        (ln_2): LayerNorm((768,), eps=1e-06, elementwise_affine=True)\n",
              "        (mlp): MLPBlock(\n",
              "          (0): Linear(in_features=768, out_features=3072, bias=True)\n",
              "          (1): GELU(approximate='none')\n",
              "          (2): Dropout(p=0.0, inplace=False)\n",
              "          (3): Linear(in_features=3072, out_features=768, bias=True)\n",
              "          (4): Dropout(p=0.0, inplace=False)\n",
              "        )\n",
              "      )\n",
              "      (encoder_layer_8): EncoderBlock(\n",
              "        (ln_1): LayerNorm((768,), eps=1e-06, elementwise_affine=True)\n",
              "        (self_attention): MultiheadAttention(\n",
              "          (out_proj): NonDynamicallyQuantizableLinear(in_features=768, out_features=768, bias=True)\n",
              "        )\n",
              "        (dropout): Dropout(p=0.0, inplace=False)\n",
              "        (ln_2): LayerNorm((768,), eps=1e-06, elementwise_affine=True)\n",
              "        (mlp): MLPBlock(\n",
              "          (0): Linear(in_features=768, out_features=3072, bias=True)\n",
              "          (1): GELU(approximate='none')\n",
              "          (2): Dropout(p=0.0, inplace=False)\n",
              "          (3): Linear(in_features=3072, out_features=768, bias=True)\n",
              "          (4): Dropout(p=0.0, inplace=False)\n",
              "        )\n",
              "      )\n",
              "      (encoder_layer_9): EncoderBlock(\n",
              "        (ln_1): LayerNorm((768,), eps=1e-06, elementwise_affine=True)\n",
              "        (self_attention): MultiheadAttention(\n",
              "          (out_proj): NonDynamicallyQuantizableLinear(in_features=768, out_features=768, bias=True)\n",
              "        )\n",
              "        (dropout): Dropout(p=0.0, inplace=False)\n",
              "        (ln_2): LayerNorm((768,), eps=1e-06, elementwise_affine=True)\n",
              "        (mlp): MLPBlock(\n",
              "          (0): Linear(in_features=768, out_features=3072, bias=True)\n",
              "          (1): GELU(approximate='none')\n",
              "          (2): Dropout(p=0.0, inplace=False)\n",
              "          (3): Linear(in_features=3072, out_features=768, bias=True)\n",
              "          (4): Dropout(p=0.0, inplace=False)\n",
              "        )\n",
              "      )\n",
              "      (encoder_layer_10): EncoderBlock(\n",
              "        (ln_1): LayerNorm((768,), eps=1e-06, elementwise_affine=True)\n",
              "        (self_attention): MultiheadAttention(\n",
              "          (out_proj): NonDynamicallyQuantizableLinear(in_features=768, out_features=768, bias=True)\n",
              "        )\n",
              "        (dropout): Dropout(p=0.0, inplace=False)\n",
              "        (ln_2): LayerNorm((768,), eps=1e-06, elementwise_affine=True)\n",
              "        (mlp): MLPBlock(\n",
              "          (0): Linear(in_features=768, out_features=3072, bias=True)\n",
              "          (1): GELU(approximate='none')\n",
              "          (2): Dropout(p=0.0, inplace=False)\n",
              "          (3): Linear(in_features=3072, out_features=768, bias=True)\n",
              "          (4): Dropout(p=0.0, inplace=False)\n",
              "        )\n",
              "      )\n",
              "      (encoder_layer_11): EncoderBlock(\n",
              "        (ln_1): LayerNorm((768,), eps=1e-06, elementwise_affine=True)\n",
              "        (self_attention): MultiheadAttention(\n",
              "          (out_proj): NonDynamicallyQuantizableLinear(in_features=768, out_features=768, bias=True)\n",
              "        )\n",
              "        (dropout): Dropout(p=0.0, inplace=False)\n",
              "        (ln_2): LayerNorm((768,), eps=1e-06, elementwise_affine=True)\n",
              "        (mlp): MLPBlock(\n",
              "          (0): Linear(in_features=768, out_features=3072, bias=True)\n",
              "          (1): GELU(approximate='none')\n",
              "          (2): Dropout(p=0.0, inplace=False)\n",
              "          (3): Linear(in_features=3072, out_features=768, bias=True)\n",
              "          (4): Dropout(p=0.0, inplace=False)\n",
              "        )\n",
              "      )\n",
              "    )\n",
              "    (ln): LayerNorm((768,), eps=1e-06, elementwise_affine=True)\n",
              "  )\n",
              "  (heads): Sequential(\n",
              "    (head): Linear(in_features=768, out_features=10, bias=True)\n",
              "  )\n",
              ")"
            ]
          },
          "metadata": {},
          "execution_count": 38
        }
      ]
    },
    {
      "cell_type": "code",
      "source": [
        "for name, param in model.named_parameters():\n",
        "  print(name, param.requires_grad)"
      ],
      "metadata": {
        "colab": {
          "base_uri": "https://localhost:8080/"
        },
        "id": "meI6hjT3bPL_",
        "outputId": "721cba23-ea82-42d0-bd0f-1b60285a37ec"
      },
      "execution_count": 39,
      "outputs": [
        {
          "output_type": "stream",
          "name": "stdout",
          "text": [
            "class_token True\n",
            "conv_proj.weight True\n",
            "conv_proj.bias True\n",
            "encoder.pos_embedding True\n",
            "encoder.layers.encoder_layer_0.ln_1.weight True\n",
            "encoder.layers.encoder_layer_0.ln_1.bias True\n",
            "encoder.layers.encoder_layer_0.self_attention.in_proj_weight True\n",
            "encoder.layers.encoder_layer_0.self_attention.in_proj_bias True\n",
            "encoder.layers.encoder_layer_0.self_attention.out_proj.weight True\n",
            "encoder.layers.encoder_layer_0.self_attention.out_proj.bias True\n",
            "encoder.layers.encoder_layer_0.ln_2.weight True\n",
            "encoder.layers.encoder_layer_0.ln_2.bias True\n",
            "encoder.layers.encoder_layer_0.mlp.0.weight True\n",
            "encoder.layers.encoder_layer_0.mlp.0.bias True\n",
            "encoder.layers.encoder_layer_0.mlp.3.weight True\n",
            "encoder.layers.encoder_layer_0.mlp.3.bias True\n",
            "encoder.layers.encoder_layer_1.ln_1.weight True\n",
            "encoder.layers.encoder_layer_1.ln_1.bias True\n",
            "encoder.layers.encoder_layer_1.self_attention.in_proj_weight True\n",
            "encoder.layers.encoder_layer_1.self_attention.in_proj_bias True\n",
            "encoder.layers.encoder_layer_1.self_attention.out_proj.weight True\n",
            "encoder.layers.encoder_layer_1.self_attention.out_proj.bias True\n",
            "encoder.layers.encoder_layer_1.ln_2.weight True\n",
            "encoder.layers.encoder_layer_1.ln_2.bias True\n",
            "encoder.layers.encoder_layer_1.mlp.0.weight True\n",
            "encoder.layers.encoder_layer_1.mlp.0.bias True\n",
            "encoder.layers.encoder_layer_1.mlp.3.weight True\n",
            "encoder.layers.encoder_layer_1.mlp.3.bias True\n",
            "encoder.layers.encoder_layer_2.ln_1.weight True\n",
            "encoder.layers.encoder_layer_2.ln_1.bias True\n",
            "encoder.layers.encoder_layer_2.self_attention.in_proj_weight True\n",
            "encoder.layers.encoder_layer_2.self_attention.in_proj_bias True\n",
            "encoder.layers.encoder_layer_2.self_attention.out_proj.weight True\n",
            "encoder.layers.encoder_layer_2.self_attention.out_proj.bias True\n",
            "encoder.layers.encoder_layer_2.ln_2.weight True\n",
            "encoder.layers.encoder_layer_2.ln_2.bias True\n",
            "encoder.layers.encoder_layer_2.mlp.0.weight True\n",
            "encoder.layers.encoder_layer_2.mlp.0.bias True\n",
            "encoder.layers.encoder_layer_2.mlp.3.weight True\n",
            "encoder.layers.encoder_layer_2.mlp.3.bias True\n",
            "encoder.layers.encoder_layer_3.ln_1.weight True\n",
            "encoder.layers.encoder_layer_3.ln_1.bias True\n",
            "encoder.layers.encoder_layer_3.self_attention.in_proj_weight True\n",
            "encoder.layers.encoder_layer_3.self_attention.in_proj_bias True\n",
            "encoder.layers.encoder_layer_3.self_attention.out_proj.weight True\n",
            "encoder.layers.encoder_layer_3.self_attention.out_proj.bias True\n",
            "encoder.layers.encoder_layer_3.ln_2.weight True\n",
            "encoder.layers.encoder_layer_3.ln_2.bias True\n",
            "encoder.layers.encoder_layer_3.mlp.0.weight True\n",
            "encoder.layers.encoder_layer_3.mlp.0.bias True\n",
            "encoder.layers.encoder_layer_3.mlp.3.weight True\n",
            "encoder.layers.encoder_layer_3.mlp.3.bias True\n",
            "encoder.layers.encoder_layer_4.ln_1.weight True\n",
            "encoder.layers.encoder_layer_4.ln_1.bias True\n",
            "encoder.layers.encoder_layer_4.self_attention.in_proj_weight True\n",
            "encoder.layers.encoder_layer_4.self_attention.in_proj_bias True\n",
            "encoder.layers.encoder_layer_4.self_attention.out_proj.weight True\n",
            "encoder.layers.encoder_layer_4.self_attention.out_proj.bias True\n",
            "encoder.layers.encoder_layer_4.ln_2.weight True\n",
            "encoder.layers.encoder_layer_4.ln_2.bias True\n",
            "encoder.layers.encoder_layer_4.mlp.0.weight True\n",
            "encoder.layers.encoder_layer_4.mlp.0.bias True\n",
            "encoder.layers.encoder_layer_4.mlp.3.weight True\n",
            "encoder.layers.encoder_layer_4.mlp.3.bias True\n",
            "encoder.layers.encoder_layer_5.ln_1.weight True\n",
            "encoder.layers.encoder_layer_5.ln_1.bias True\n",
            "encoder.layers.encoder_layer_5.self_attention.in_proj_weight True\n",
            "encoder.layers.encoder_layer_5.self_attention.in_proj_bias True\n",
            "encoder.layers.encoder_layer_5.self_attention.out_proj.weight True\n",
            "encoder.layers.encoder_layer_5.self_attention.out_proj.bias True\n",
            "encoder.layers.encoder_layer_5.ln_2.weight True\n",
            "encoder.layers.encoder_layer_5.ln_2.bias True\n",
            "encoder.layers.encoder_layer_5.mlp.0.weight True\n",
            "encoder.layers.encoder_layer_5.mlp.0.bias True\n",
            "encoder.layers.encoder_layer_5.mlp.3.weight True\n",
            "encoder.layers.encoder_layer_5.mlp.3.bias True\n",
            "encoder.layers.encoder_layer_6.ln_1.weight True\n",
            "encoder.layers.encoder_layer_6.ln_1.bias True\n",
            "encoder.layers.encoder_layer_6.self_attention.in_proj_weight True\n",
            "encoder.layers.encoder_layer_6.self_attention.in_proj_bias True\n",
            "encoder.layers.encoder_layer_6.self_attention.out_proj.weight True\n",
            "encoder.layers.encoder_layer_6.self_attention.out_proj.bias True\n",
            "encoder.layers.encoder_layer_6.ln_2.weight True\n",
            "encoder.layers.encoder_layer_6.ln_2.bias True\n",
            "encoder.layers.encoder_layer_6.mlp.0.weight True\n",
            "encoder.layers.encoder_layer_6.mlp.0.bias True\n",
            "encoder.layers.encoder_layer_6.mlp.3.weight True\n",
            "encoder.layers.encoder_layer_6.mlp.3.bias True\n",
            "encoder.layers.encoder_layer_7.ln_1.weight True\n",
            "encoder.layers.encoder_layer_7.ln_1.bias True\n",
            "encoder.layers.encoder_layer_7.self_attention.in_proj_weight True\n",
            "encoder.layers.encoder_layer_7.self_attention.in_proj_bias True\n",
            "encoder.layers.encoder_layer_7.self_attention.out_proj.weight True\n",
            "encoder.layers.encoder_layer_7.self_attention.out_proj.bias True\n",
            "encoder.layers.encoder_layer_7.ln_2.weight True\n",
            "encoder.layers.encoder_layer_7.ln_2.bias True\n",
            "encoder.layers.encoder_layer_7.mlp.0.weight True\n",
            "encoder.layers.encoder_layer_7.mlp.0.bias True\n",
            "encoder.layers.encoder_layer_7.mlp.3.weight True\n",
            "encoder.layers.encoder_layer_7.mlp.3.bias True\n",
            "encoder.layers.encoder_layer_8.ln_1.weight True\n",
            "encoder.layers.encoder_layer_8.ln_1.bias True\n",
            "encoder.layers.encoder_layer_8.self_attention.in_proj_weight True\n",
            "encoder.layers.encoder_layer_8.self_attention.in_proj_bias True\n",
            "encoder.layers.encoder_layer_8.self_attention.out_proj.weight True\n",
            "encoder.layers.encoder_layer_8.self_attention.out_proj.bias True\n",
            "encoder.layers.encoder_layer_8.ln_2.weight True\n",
            "encoder.layers.encoder_layer_8.ln_2.bias True\n",
            "encoder.layers.encoder_layer_8.mlp.0.weight True\n",
            "encoder.layers.encoder_layer_8.mlp.0.bias True\n",
            "encoder.layers.encoder_layer_8.mlp.3.weight True\n",
            "encoder.layers.encoder_layer_8.mlp.3.bias True\n",
            "encoder.layers.encoder_layer_9.ln_1.weight True\n",
            "encoder.layers.encoder_layer_9.ln_1.bias True\n",
            "encoder.layers.encoder_layer_9.self_attention.in_proj_weight True\n",
            "encoder.layers.encoder_layer_9.self_attention.in_proj_bias True\n",
            "encoder.layers.encoder_layer_9.self_attention.out_proj.weight True\n",
            "encoder.layers.encoder_layer_9.self_attention.out_proj.bias True\n",
            "encoder.layers.encoder_layer_9.ln_2.weight True\n",
            "encoder.layers.encoder_layer_9.ln_2.bias True\n",
            "encoder.layers.encoder_layer_9.mlp.0.weight True\n",
            "encoder.layers.encoder_layer_9.mlp.0.bias True\n",
            "encoder.layers.encoder_layer_9.mlp.3.weight True\n",
            "encoder.layers.encoder_layer_9.mlp.3.bias True\n",
            "encoder.layers.encoder_layer_10.ln_1.weight True\n",
            "encoder.layers.encoder_layer_10.ln_1.bias True\n",
            "encoder.layers.encoder_layer_10.self_attention.in_proj_weight True\n",
            "encoder.layers.encoder_layer_10.self_attention.in_proj_bias True\n",
            "encoder.layers.encoder_layer_10.self_attention.out_proj.weight True\n",
            "encoder.layers.encoder_layer_10.self_attention.out_proj.bias True\n",
            "encoder.layers.encoder_layer_10.ln_2.weight True\n",
            "encoder.layers.encoder_layer_10.ln_2.bias True\n",
            "encoder.layers.encoder_layer_10.mlp.0.weight True\n",
            "encoder.layers.encoder_layer_10.mlp.0.bias True\n",
            "encoder.layers.encoder_layer_10.mlp.3.weight True\n",
            "encoder.layers.encoder_layer_10.mlp.3.bias True\n",
            "encoder.layers.encoder_layer_11.ln_1.weight True\n",
            "encoder.layers.encoder_layer_11.ln_1.bias True\n",
            "encoder.layers.encoder_layer_11.self_attention.in_proj_weight True\n",
            "encoder.layers.encoder_layer_11.self_attention.in_proj_bias True\n",
            "encoder.layers.encoder_layer_11.self_attention.out_proj.weight True\n",
            "encoder.layers.encoder_layer_11.self_attention.out_proj.bias True\n",
            "encoder.layers.encoder_layer_11.ln_2.weight True\n",
            "encoder.layers.encoder_layer_11.ln_2.bias True\n",
            "encoder.layers.encoder_layer_11.mlp.0.weight True\n",
            "encoder.layers.encoder_layer_11.mlp.0.bias True\n",
            "encoder.layers.encoder_layer_11.mlp.3.weight True\n",
            "encoder.layers.encoder_layer_11.mlp.3.bias True\n",
            "encoder.ln.weight True\n",
            "encoder.ln.bias True\n",
            "heads.head.weight True\n",
            "heads.head.bias True\n"
          ]
        }
      ]
    },
    {
      "cell_type": "code",
      "source": [
        "for epoch in range(2):\n",
        "    # Training\n",
        "    model.train()\n",
        "    for images, labels in train_loader:\n",
        "        images, labels = images.to(device), labels.to(device)\n",
        "        optimizer.zero_grad()\n",
        "        outputs = model(images)\n",
        "        loss = loss_fn(outputs, labels)\n",
        "        loss.backward()\n",
        "        optimizer.step()\n",
        "    print(f'Epochs [{epoch + 1}/{2}]')\n",
        "    print(f'Training Loss: {loss.item():.4f}')\n",
        "\n",
        "# Testing\n",
        "model.eval()\n",
        "actual = 0\n",
        "total = 0\n",
        "with torch.no_grad():\n",
        "    for images, labels in test_loader:\n",
        "        images, labels = images.to(device), labels.to(device)\n",
        "        outputs = model(images)\n",
        "        _, predicted = torch.max(outputs.data, 1)\n",
        "        total += labels.size(0)\n",
        "        actual += (predicted == labels).sum().item()\n",
        "\n",
        "# Test accuracy\n",
        "test_accuracy = 100 * actual / total\n",
        "print(f'Testing Accuracy: {test_accuracy:.2f}%')\n",
        "\n",
        "activation = {}\n",
        "def get_activation(name):\n",
        "    def hook(model, input, output):\n",
        "        activation[name] = output.detach()\n",
        "    return hook\n",
        "\n",
        "model.encoder.layers.encoder_layer_6.register_forward_hook(get_activation(\"3\"))\n",
        "for i, l in test_loader:\n",
        "  img1 = i\n",
        "  break\n",
        "\n",
        "plt.imshow(img1[10].cpu().detach().numpy().transpose(1,2,0))\n",
        "plt.show()\n",
        "\n",
        "output = model(img1[0][None,:,:,:].to(device))\n",
        "\n",
        "a = activation[\"3\"][0,:,:][1:,:]\n",
        "img = a[:, 3:6].reshape(14,14,3)\n",
        "plt.figure(figsize=(3,3))\n",
        "plt.imshow(img.cpu().detach().numpy())"
      ],
      "metadata": {
        "colab": {
          "base_uri": "https://localhost:8080/",
          "height": 847
        },
        "id": "5EjtHGSlayx1",
        "outputId": "6e6cb353-6a2a-48c9-9106-bfc6d9fec475"
      },
      "execution_count": 40,
      "outputs": [
        {
          "output_type": "stream",
          "name": "stdout",
          "text": [
            "Epochs [1/2]\n",
            "Training Loss: 2.4535\n",
            "Epochs [2/2]\n",
            "Training Loss: 2.2607\n"
          ]
        },
        {
          "output_type": "stream",
          "name": "stderr",
          "text": [
            "WARNING:matplotlib.image:Clipping input data to the valid range for imshow with RGB data ([0..1] for floats or [0..255] for integers).\n"
          ]
        },
        {
          "output_type": "stream",
          "name": "stdout",
          "text": [
            "Testing Accuracy: 6.15%\n"
          ]
        },
        {
          "output_type": "display_data",
          "data": {
            "text/plain": [
              "<Figure size 640x480 with 1 Axes>"
            ],
            "image/png": "[encoded data removed]"
          },
          "metadata": {}
        },
        {
          "output_type": "stream",
          "name": "stderr",
          "text": [
            "WARNING:matplotlib.image:Clipping input data to the valid range for imshow with RGB data ([0..1] for floats or [0..255] for integers).\n"
          ]
        },
        {
          "output_type": "execute_result",
          "data": {
            "text/plain": [
              "<matplotlib.image.AxesImage at 0x7f18068838b0>"
            ]
          },
          "metadata": {},
          "execution_count": 40
        },
        {
          "output_type": "display_data",
          "data": {
            "text/plain": [
              "<Figure size 300x300 with 1 Axes>"
            ],
            "image/png": "[encoded data removed]"
          },
          "metadata": {}
        }
      ]
    },
    {
      "cell_type": "markdown",
      "source": [
        "## 4. No fine tuning"
      ],
      "metadata": {
        "id": "FJdedx3ABHnI"
      }
    },
    {
      "cell_type": "code",
      "source": [
        "model = vision_transformer.vit_b_16(pretrained=True)\n",
        "model.heads.head = nn.Linear(in_features=768,out_features=10,bias=True)\n",
        "\n",
        "for param in model.parameters():\n",
        "    param.requires_grad = False\n",
        "model.to(device)"
      ],
      "metadata": {
        "colab": {
          "base_uri": "https://localhost:8080/"
        },
        "id": "Gqvv5VMsBWPC",
        "outputId": "48f4ab16-f0d8-4b83-eed3-63e7d3d15488"
      },
      "execution_count": 44,
      "outputs": [
        {
          "output_type": "stream",
          "name": "stderr",
          "text": [
            "/usr/local/lib/python3.10/dist-packages/torchvision/models/_utils.py:208: UserWarning: The parameter 'pretrained' is deprecated since 0.13 and may be removed in the future, please use 'weights' instead.\n",
            "  warnings.warn(\n",
            "/usr/local/lib/python3.10/dist-packages/torchvision/models/_utils.py:223: UserWarning: Arguments other than a weight enum or `None` for 'weights' are deprecated since 0.13 and may be removed in the future. The current behavior is equivalent to passing `weights=ViT_B_16_Weights.IMAGENET1K_V1`. You can also use `weights=ViT_B_16_Weights.DEFAULT` to get the most up-to-date weights.\n",
            "  warnings.warn(msg)\n"
          ]
        },
        {
          "output_type": "execute_result",
          "data": {
            "text/plain": [
              "VisionTransformer(\n",
              "  (conv_proj): Conv2d(3, 768, kernel_size=(16, 16), stride=(16, 16))\n",
              "  (encoder): Encoder(\n",
              "    (dropout): Dropout(p=0.0, inplace=False)\n",
              "    (layers): Sequential(\n",
              "      (encoder_layer_0): EncoderBlock(\n",
              "        (ln_1): LayerNorm((768,), eps=1e-06, elementwise_affine=True)\n",
              "        (self_attention): MultiheadAttention(\n",
              "          (out_proj): NonDynamicallyQuantizableLinear(in_features=768, out_features=768, bias=True)\n",
              "        )\n",
              "        (dropout): Dropout(p=0.0, inplace=False)\n",
              "        (ln_2): LayerNorm((768,), eps=1e-06, elementwise_affine=True)\n",
              "        (mlp): MLPBlock(\n",
              "          (0): Linear(in_features=768, out_features=3072, bias=True)\n",
              "          (1): GELU(approximate='none')\n",
              "          (2): Dropout(p=0.0, inplace=False)\n",
              "          (3): Linear(in_features=3072, out_features=768, bias=True)\n",
              "          (4): Dropout(p=0.0, inplace=False)\n",
              "        )\n",
              "      )\n",
              "      (encoder_layer_1): EncoderBlock(\n",
              "        (ln_1): LayerNorm((768,), eps=1e-06, elementwise_affine=True)\n",
              "        (self_attention): MultiheadAttention(\n",
              "          (out_proj): NonDynamicallyQuantizableLinear(in_features=768, out_features=768, bias=True)\n",
              "        )\n",
              "        (dropout): Dropout(p=0.0, inplace=False)\n",
              "        (ln_2): LayerNorm((768,), eps=1e-06, elementwise_affine=True)\n",
              "        (mlp): MLPBlock(\n",
              "          (0): Linear(in_features=768, out_features=3072, bias=True)\n",
              "          (1): GELU(approximate='none')\n",
              "          (2): Dropout(p=0.0, inplace=False)\n",
              "          (3): Linear(in_features=3072, out_features=768, bias=True)\n",
              "          (4): Dropout(p=0.0, inplace=False)\n",
              "        )\n",
              "      )\n",
              "      (encoder_layer_2): EncoderBlock(\n",
              "        (ln_1): LayerNorm((768,), eps=1e-06, elementwise_affine=True)\n",
              "        (self_attention): MultiheadAttention(\n",
              "          (out_proj): NonDynamicallyQuantizableLinear(in_features=768, out_features=768, bias=True)\n",
              "        )\n",
              "        (dropout): Dropout(p=0.0, inplace=False)\n",
              "        (ln_2): LayerNorm((768,), eps=1e-06, elementwise_affine=True)\n",
              "        (mlp): MLPBlock(\n",
              "          (0): Linear(in_features=768, out_features=3072, bias=True)\n",
              "          (1): GELU(approximate='none')\n",
              "          (2): Dropout(p=0.0, inplace=False)\n",
              "          (3): Linear(in_features=3072, out_features=768, bias=True)\n",
              "          (4): Dropout(p=0.0, inplace=False)\n",
              "        )\n",
              "      )\n",
              "      (encoder_layer_3): EncoderBlock(\n",
              "        (ln_1): LayerNorm((768,), eps=1e-06, elementwise_affine=True)\n",
              "        (self_attention): MultiheadAttention(\n",
              "          (out_proj): NonDynamicallyQuantizableLinear(in_features=768, out_features=768, bias=True)\n",
              "        )\n",
              "        (dropout): Dropout(p=0.0, inplace=False)\n",
              "        (ln_2): LayerNorm((768,), eps=1e-06, elementwise_affine=True)\n",
              "        (mlp): MLPBlock(\n",
              "          (0): Linear(in_features=768, out_features=3072, bias=True)\n",
              "          (1): GELU(approximate='none')\n",
              "          (2): Dropout(p=0.0, inplace=False)\n",
              "          (3): Linear(in_features=3072, out_features=768, bias=True)\n",
              "          (4): Dropout(p=0.0, inplace=False)\n",
              "        )\n",
              "      )\n",
              "      (encoder_layer_4): EncoderBlock(\n",
              "        (ln_1): LayerNorm((768,), eps=1e-06, elementwise_affine=True)\n",
              "        (self_attention): MultiheadAttention(\n",
              "          (out_proj): NonDynamicallyQuantizableLinear(in_features=768, out_features=768, bias=True)\n",
              "        )\n",
              "        (dropout): Dropout(p=0.0, inplace=False)\n",
              "        (ln_2): LayerNorm((768,), eps=1e-06, elementwise_affine=True)\n",
              "        (mlp): MLPBlock(\n",
              "          (0): Linear(in_features=768, out_features=3072, bias=True)\n",
              "          (1): GELU(approximate='none')\n",
              "          (2): Dropout(p=0.0, inplace=False)\n",
              "          (3): Linear(in_features=3072, out_features=768, bias=True)\n",
              "          (4): Dropout(p=0.0, inplace=False)\n",
              "        )\n",
              "      )\n",
              "      (encoder_layer_5): EncoderBlock(\n",
              "        (ln_1): LayerNorm((768,), eps=1e-06, elementwise_affine=True)\n",
              "        (self_attention): MultiheadAttention(\n",
              "          (out_proj): NonDynamicallyQuantizableLinear(in_features=768, out_features=768, bias=True)\n",
              "        )\n",
              "        (dropout): Dropout(p=0.0, inplace=False)\n",
              "        (ln_2): LayerNorm((768,), eps=1e-06, elementwise_affine=True)\n",
              "        (mlp): MLPBlock(\n",
              "          (0): Linear(in_features=768, out_features=3072, bias=True)\n",
              "          (1): GELU(approximate='none')\n",
              "          (2): Dropout(p=0.0, inplace=False)\n",
              "          (3): Linear(in_features=3072, out_features=768, bias=True)\n",
              "          (4): Dropout(p=0.0, inplace=False)\n",
              "        )\n",
              "      )\n",
              "      (encoder_layer_6): EncoderBlock(\n",
              "        (ln_1): LayerNorm((768,), eps=1e-06, elementwise_affine=True)\n",
              "        (self_attention): MultiheadAttention(\n",
              "          (out_proj): NonDynamicallyQuantizableLinear(in_features=768, out_features=768, bias=True)\n",
              "        )\n",
              "        (dropout): Dropout(p=0.0, inplace=False)\n",
              "        (ln_2): LayerNorm((768,), eps=1e-06, elementwise_affine=True)\n",
              "        (mlp): MLPBlock(\n",
              "          (0): Linear(in_features=768, out_features=3072, bias=True)\n",
              "          (1): GELU(approximate='none')\n",
              "          (2): Dropout(p=0.0, inplace=False)\n",
              "          (3): Linear(in_features=3072, out_features=768, bias=True)\n",
              "          (4): Dropout(p=0.0, inplace=False)\n",
              "        )\n",
              "      )\n",
              "      (encoder_layer_7): EncoderBlock(\n",
              "        (ln_1): LayerNorm((768,), eps=1e-06, elementwise_affine=True)\n",
              "        (self_attention): MultiheadAttention(\n",
              "          (out_proj): NonDynamicallyQuantizableLinear(in_features=768, out_features=768, bias=True)\n",
              "        )\n",
              "        (dropout): Dropout(p=0.0, inplace=False)\n",
              "        (ln_2): LayerNorm((768,), eps=1e-06, elementwise_affine=True)\n",
              "        (mlp): MLPBlock(\n",
              "          (0): Linear(in_features=768, out_features=3072, bias=True)\n",
              "          (1): GELU(approximate='none')\n",
              "          (2): Dropout(p=0.0, inplace=False)\n",
              "          (3): Linear(in_features=3072, out_features=768, bias=True)\n",
              "          (4): Dropout(p=0.0, inplace=False)\n",
              "        )\n",
              "      )\n",
              "      (encoder_layer_8): EncoderBlock(\n",
              "        (ln_1): LayerNorm((768,), eps=1e-06, elementwise_affine=True)\n",
              "        (self_attention): MultiheadAttention(\n",
              "          (out_proj): NonDynamicallyQuantizableLinear(in_features=768, out_features=768, bias=True)\n",
              "        )\n",
              "        (dropout): Dropout(p=0.0, inplace=False)\n",
              "        (ln_2): LayerNorm((768,), eps=1e-06, elementwise_affine=True)\n",
              "        (mlp): MLPBlock(\n",
              "          (0): Linear(in_features=768, out_features=3072, bias=True)\n",
              "          (1): GELU(approximate='none')\n",
              "          (2): Dropout(p=0.0, inplace=False)\n",
              "          (3): Linear(in_features=3072, out_features=768, bias=True)\n",
              "          (4): Dropout(p=0.0, inplace=False)\n",
              "        )\n",
              "      )\n",
              "      (encoder_layer_9): EncoderBlock(\n",
              "        (ln_1): LayerNorm((768,), eps=1e-06, elementwise_affine=True)\n",
              "        (self_attention): MultiheadAttention(\n",
              "          (out_proj): NonDynamicallyQuantizableLinear(in_features=768, out_features=768, bias=True)\n",
              "        )\n",
              "        (dropout): Dropout(p=0.0, inplace=False)\n",
              "        (ln_2): LayerNorm((768,), eps=1e-06, elementwise_affine=True)\n",
              "        (mlp): MLPBlock(\n",
              "          (0): Linear(in_features=768, out_features=3072, bias=True)\n",
              "          (1): GELU(approximate='none')\n",
              "          (2): Dropout(p=0.0, inplace=False)\n",
              "          (3): Linear(in_features=3072, out_features=768, bias=True)\n",
              "          (4): Dropout(p=0.0, inplace=False)\n",
              "        )\n",
              "      )\n",
              "      (encoder_layer_10): EncoderBlock(\n",
              "        (ln_1): LayerNorm((768,), eps=1e-06, elementwise_affine=True)\n",
              "        (self_attention): MultiheadAttention(\n",
              "          (out_proj): NonDynamicallyQuantizableLinear(in_features=768, out_features=768, bias=True)\n",
              "        )\n",
              "        (dropout): Dropout(p=0.0, inplace=False)\n",
              "        (ln_2): LayerNorm((768,), eps=1e-06, elementwise_affine=True)\n",
              "        (mlp): MLPBlock(\n",
              "          (0): Linear(in_features=768, out_features=3072, bias=True)\n",
              "          (1): GELU(approximate='none')\n",
              "          (2): Dropout(p=0.0, inplace=False)\n",
              "          (3): Linear(in_features=3072, out_features=768, bias=True)\n",
              "          (4): Dropout(p=0.0, inplace=False)\n",
              "        )\n",
              "      )\n",
              "      (encoder_layer_11): EncoderBlock(\n",
              "        (ln_1): LayerNorm((768,), eps=1e-06, elementwise_affine=True)\n",
              "        (self_attention): MultiheadAttention(\n",
              "          (out_proj): NonDynamicallyQuantizableLinear(in_features=768, out_features=768, bias=True)\n",
              "        )\n",
              "        (dropout): Dropout(p=0.0, inplace=False)\n",
              "        (ln_2): LayerNorm((768,), eps=1e-06, elementwise_affine=True)\n",
              "        (mlp): MLPBlock(\n",
              "          (0): Linear(in_features=768, out_features=3072, bias=True)\n",
              "          (1): GELU(approximate='none')\n",
              "          (2): Dropout(p=0.0, inplace=False)\n",
              "          (3): Linear(in_features=3072, out_features=768, bias=True)\n",
              "          (4): Dropout(p=0.0, inplace=False)\n",
              "        )\n",
              "      )\n",
              "    )\n",
              "    (ln): LayerNorm((768,), eps=1e-06, elementwise_affine=True)\n",
              "  )\n",
              "  (heads): Sequential(\n",
              "    (head): Linear(in_features=768, out_features=10, bias=True)\n",
              "  )\n",
              ")"
            ]
          },
          "metadata": {},
          "execution_count": 44
        }
      ]
    },
    {
      "cell_type": "code",
      "source": [
        "for name, param in model.named_parameters():\n",
        "  print(name, param.requires_grad)"
      ],
      "metadata": {
        "colab": {
          "base_uri": "https://localhost:8080/"
        },
        "id": "nkuOkKkxbQ6W",
        "outputId": "ffe9a330-a059-48af-a0d5-b17490056244"
      },
      "execution_count": 45,
      "outputs": [
        {
          "output_type": "stream",
          "name": "stdout",
          "text": [
            "class_token False\n",
            "conv_proj.weight False\n",
            "conv_proj.bias False\n",
            "encoder.pos_embedding False\n",
            "encoder.layers.encoder_layer_0.ln_1.weight False\n",
            "encoder.layers.encoder_layer_0.ln_1.bias False\n",
            "encoder.layers.encoder_layer_0.self_attention.in_proj_weight False\n",
            "encoder.layers.encoder_layer_0.self_attention.in_proj_bias False\n",
            "encoder.layers.encoder_layer_0.self_attention.out_proj.weight False\n",
            "encoder.layers.encoder_layer_0.self_attention.out_proj.bias False\n",
            "encoder.layers.encoder_layer_0.ln_2.weight False\n",
            "encoder.layers.encoder_layer_0.ln_2.bias False\n",
            "encoder.layers.encoder_layer_0.mlp.0.weight False\n",
            "encoder.layers.encoder_layer_0.mlp.0.bias False\n",
            "encoder.layers.encoder_layer_0.mlp.3.weight False\n",
            "encoder.layers.encoder_layer_0.mlp.3.bias False\n",
            "encoder.layers.encoder_layer_1.ln_1.weight False\n",
            "encoder.layers.encoder_layer_1.ln_1.bias False\n",
            "encoder.layers.encoder_layer_1.self_attention.in_proj_weight False\n",
            "encoder.layers.encoder_layer_1.self_attention.in_proj_bias False\n",
            "encoder.layers.encoder_layer_1.self_attention.out_proj.weight False\n",
            "encoder.layers.encoder_layer_1.self_attention.out_proj.bias False\n",
            "encoder.layers.encoder_layer_1.ln_2.weight False\n",
            "encoder.layers.encoder_layer_1.ln_2.bias False\n",
            "encoder.layers.encoder_layer_1.mlp.0.weight False\n",
            "encoder.layers.encoder_layer_1.mlp.0.bias False\n",
            "encoder.layers.encoder_layer_1.mlp.3.weight False\n",
            "encoder.layers.encoder_layer_1.mlp.3.bias False\n",
            "encoder.layers.encoder_layer_2.ln_1.weight False\n",
            "encoder.layers.encoder_layer_2.ln_1.bias False\n",
            "encoder.layers.encoder_layer_2.self_attention.in_proj_weight False\n",
            "encoder.layers.encoder_layer_2.self_attention.in_proj_bias False\n",
            "encoder.layers.encoder_layer_2.self_attention.out_proj.weight False\n",
            "encoder.layers.encoder_layer_2.self_attention.out_proj.bias False\n",
            "encoder.layers.encoder_layer_2.ln_2.weight False\n",
            "encoder.layers.encoder_layer_2.ln_2.bias False\n",
            "encoder.layers.encoder_layer_2.mlp.0.weight False\n",
            "encoder.layers.encoder_layer_2.mlp.0.bias False\n",
            "encoder.layers.encoder_layer_2.mlp.3.weight False\n",
            "encoder.layers.encoder_layer_2.mlp.3.bias False\n",
            "encoder.layers.encoder_layer_3.ln_1.weight False\n",
            "encoder.layers.encoder_layer_3.ln_1.bias False\n",
            "encoder.layers.encoder_layer_3.self_attention.in_proj_weight False\n",
            "encoder.layers.encoder_layer_3.self_attention.in_proj_bias False\n",
            "encoder.layers.encoder_layer_3.self_attention.out_proj.weight False\n",
            "encoder.layers.encoder_layer_3.self_attention.out_proj.bias False\n",
            "encoder.layers.encoder_layer_3.ln_2.weight False\n",
            "encoder.layers.encoder_layer_3.ln_2.bias False\n",
            "encoder.layers.encoder_layer_3.mlp.0.weight False\n",
            "encoder.layers.encoder_layer_3.mlp.0.bias False\n",
            "encoder.layers.encoder_layer_3.mlp.3.weight False\n",
            "encoder.layers.encoder_layer_3.mlp.3.bias False\n",
            "encoder.layers.encoder_layer_4.ln_1.weight False\n",
            "encoder.layers.encoder_layer_4.ln_1.bias False\n",
            "encoder.layers.encoder_layer_4.self_attention.in_proj_weight False\n",
            "encoder.layers.encoder_layer_4.self_attention.in_proj_bias False\n",
            "encoder.layers.encoder_layer_4.self_attention.out_proj.weight False\n",
            "encoder.layers.encoder_layer_4.self_attention.out_proj.bias False\n",
            "encoder.layers.encoder_layer_4.ln_2.weight False\n",
            "encoder.layers.encoder_layer_4.ln_2.bias False\n",
            "encoder.layers.encoder_layer_4.mlp.0.weight False\n",
            "encoder.layers.encoder_layer_4.mlp.0.bias False\n",
            "encoder.layers.encoder_layer_4.mlp.3.weight False\n",
            "encoder.layers.encoder_layer_4.mlp.3.bias False\n",
            "encoder.layers.encoder_layer_5.ln_1.weight False\n",
            "encoder.layers.encoder_layer_5.ln_1.bias False\n",
            "encoder.layers.encoder_layer_5.self_attention.in_proj_weight False\n",
            "encoder.layers.encoder_layer_5.self_attention.in_proj_bias False\n",
            "encoder.layers.encoder_layer_5.self_attention.out_proj.weight False\n",
            "encoder.layers.encoder_layer_5.self_attention.out_proj.bias False\n",
            "encoder.layers.encoder_layer_5.ln_2.weight False\n",
            "encoder.layers.encoder_layer_5.ln_2.bias False\n",
            "encoder.layers.encoder_layer_5.mlp.0.weight False\n",
            "encoder.layers.encoder_layer_5.mlp.0.bias False\n",
            "encoder.layers.encoder_layer_5.mlp.3.weight False\n",
            "encoder.layers.encoder_layer_5.mlp.3.bias False\n",
            "encoder.layers.encoder_layer_6.ln_1.weight False\n",
            "encoder.layers.encoder_layer_6.ln_1.bias False\n",
            "encoder.layers.encoder_layer_6.self_attention.in_proj_weight False\n",
            "encoder.layers.encoder_layer_6.self_attention.in_proj_bias False\n",
            "encoder.layers.encoder_layer_6.self_attention.out_proj.weight False\n",
            "encoder.layers.encoder_layer_6.self_attention.out_proj.bias False\n",
            "encoder.layers.encoder_layer_6.ln_2.weight False\n",
            "encoder.layers.encoder_layer_6.ln_2.bias False\n",
            "encoder.layers.encoder_layer_6.mlp.0.weight False\n",
            "encoder.layers.encoder_layer_6.mlp.0.bias False\n",
            "encoder.layers.encoder_layer_6.mlp.3.weight False\n",
            "encoder.layers.encoder_layer_6.mlp.3.bias False\n",
            "encoder.layers.encoder_layer_7.ln_1.weight False\n",
            "encoder.layers.encoder_layer_7.ln_1.bias False\n",
            "encoder.layers.encoder_layer_7.self_attention.in_proj_weight False\n",
            "encoder.layers.encoder_layer_7.self_attention.in_proj_bias False\n",
            "encoder.layers.encoder_layer_7.self_attention.out_proj.weight False\n",
            "encoder.layers.encoder_layer_7.self_attention.out_proj.bias False\n",
            "encoder.layers.encoder_layer_7.ln_2.weight False\n",
            "encoder.layers.encoder_layer_7.ln_2.bias False\n",
            "encoder.layers.encoder_layer_7.mlp.0.weight False\n",
            "encoder.layers.encoder_layer_7.mlp.0.bias False\n",
            "encoder.layers.encoder_layer_7.mlp.3.weight False\n",
            "encoder.layers.encoder_layer_7.mlp.3.bias False\n",
            "encoder.layers.encoder_layer_8.ln_1.weight False\n",
            "encoder.layers.encoder_layer_8.ln_1.bias False\n",
            "encoder.layers.encoder_layer_8.self_attention.in_proj_weight False\n",
            "encoder.layers.encoder_layer_8.self_attention.in_proj_bias False\n",
            "encoder.layers.encoder_layer_8.self_attention.out_proj.weight False\n",
            "encoder.layers.encoder_layer_8.self_attention.out_proj.bias False\n",
            "encoder.layers.encoder_layer_8.ln_2.weight False\n",
            "encoder.layers.encoder_layer_8.ln_2.bias False\n",
            "encoder.layers.encoder_layer_8.mlp.0.weight False\n",
            "encoder.layers.encoder_layer_8.mlp.0.bias False\n",
            "encoder.layers.encoder_layer_8.mlp.3.weight False\n",
            "encoder.layers.encoder_layer_8.mlp.3.bias False\n",
            "encoder.layers.encoder_layer_9.ln_1.weight False\n",
            "encoder.layers.encoder_layer_9.ln_1.bias False\n",
            "encoder.layers.encoder_layer_9.self_attention.in_proj_weight False\n",
            "encoder.layers.encoder_layer_9.self_attention.in_proj_bias False\n",
            "encoder.layers.encoder_layer_9.self_attention.out_proj.weight False\n",
            "encoder.layers.encoder_layer_9.self_attention.out_proj.bias False\n",
            "encoder.layers.encoder_layer_9.ln_2.weight False\n",
            "encoder.layers.encoder_layer_9.ln_2.bias False\n",
            "encoder.layers.encoder_layer_9.mlp.0.weight False\n",
            "encoder.layers.encoder_layer_9.mlp.0.bias False\n",
            "encoder.layers.encoder_layer_9.mlp.3.weight False\n",
            "encoder.layers.encoder_layer_9.mlp.3.bias False\n",
            "encoder.layers.encoder_layer_10.ln_1.weight False\n",
            "encoder.layers.encoder_layer_10.ln_1.bias False\n",
            "encoder.layers.encoder_layer_10.self_attention.in_proj_weight False\n",
            "encoder.layers.encoder_layer_10.self_attention.in_proj_bias False\n",
            "encoder.layers.encoder_layer_10.self_attention.out_proj.weight False\n",
            "encoder.layers.encoder_layer_10.self_attention.out_proj.bias False\n",
            "encoder.layers.encoder_layer_10.ln_2.weight False\n",
            "encoder.layers.encoder_layer_10.ln_2.bias False\n",
            "encoder.layers.encoder_layer_10.mlp.0.weight False\n",
            "encoder.layers.encoder_layer_10.mlp.0.bias False\n",
            "encoder.layers.encoder_layer_10.mlp.3.weight False\n",
            "encoder.layers.encoder_layer_10.mlp.3.bias False\n",
            "encoder.layers.encoder_layer_11.ln_1.weight False\n",
            "encoder.layers.encoder_layer_11.ln_1.bias False\n",
            "encoder.layers.encoder_layer_11.self_attention.in_proj_weight False\n",
            "encoder.layers.encoder_layer_11.self_attention.in_proj_bias False\n",
            "encoder.layers.encoder_layer_11.self_attention.out_proj.weight False\n",
            "encoder.layers.encoder_layer_11.self_attention.out_proj.bias False\n",
            "encoder.layers.encoder_layer_11.ln_2.weight False\n",
            "encoder.layers.encoder_layer_11.ln_2.bias False\n",
            "encoder.layers.encoder_layer_11.mlp.0.weight False\n",
            "encoder.layers.encoder_layer_11.mlp.0.bias False\n",
            "encoder.layers.encoder_layer_11.mlp.3.weight False\n",
            "encoder.layers.encoder_layer_11.mlp.3.bias False\n",
            "encoder.ln.weight False\n",
            "encoder.ln.bias False\n",
            "heads.head.weight False\n",
            "heads.head.bias False\n"
          ]
        }
      ]
    },
    {
      "cell_type": "code",
      "source": [
        "# Testing\n",
        "model.eval()\n",
        "actual = 0\n",
        "total = 0\n",
        "with torch.no_grad():\n",
        "    for images, labels in test_loader:\n",
        "        images, labels = images.to(device), labels.to(device)\n",
        "        outputs = model(images)\n",
        "        _, predicted = torch.max(outputs.data, 1)\n",
        "        total += labels.size(0)\n",
        "        actual += (predicted == labels).sum().item()\n",
        "\n",
        "# Test accuracy\n",
        "test_accuracy = 100 * actual / total\n",
        "print(f'Testing Accuracy: {test_accuracy:.2f}%')\n",
        "\n",
        "activation = {}\n",
        "def get_activation(name):\n",
        "    def hook(model, input, output):\n",
        "        activation[name] = output.detach()\n",
        "    return hook\n",
        "\n",
        "model.encoder.layers.encoder_layer_6.register_forward_hook(get_activation(\"4\"))\n",
        "for i, l in test_loader:\n",
        "  img1 = i\n",
        "  break\n",
        "\n",
        "plt.imshow(img1[10].cpu().detach().numpy().transpose(1,2,0))\n",
        "plt.show()\n",
        "\n",
        "output = model(img1[0][None,:,:,:].to(device))\n",
        "\n",
        "a = activation[\"4\"][0,:,:][1:,:]\n",
        "img = a[:, 3:6].reshape(14,14,3)\n",
        "plt.figure(figsize=(3,3))\n",
        "plt.imshow(img.cpu().detach().numpy())"
      ],
      "metadata": {
        "colab": {
          "base_uri": "https://localhost:8080/",
          "height": 777
        },
        "id": "gPsKuuaUa-hj",
        "outputId": "56c3c113-385a-4648-c684-95a534084bdf"
      },
      "execution_count": 47,
      "outputs": [
        {
          "output_type": "stream",
          "name": "stderr",
          "text": [
            "WARNING:matplotlib.image:Clipping input data to the valid range for imshow with RGB data ([0..1] for floats or [0..255] for integers).\n"
          ]
        },
        {
          "output_type": "stream",
          "name": "stdout",
          "text": [
            "Testing Accuracy: 5.73%\n"
          ]
        },
        {
          "output_type": "display_data",
          "data": {
            "text/plain": [
              "<Figure size 640x480 with 1 Axes>"
            ],
            "image/png": "[encoded data removed]"
          },
          "metadata": {}
        },
        {
          "output_type": "stream",
          "name": "stderr",
          "text": [
            "WARNING:matplotlib.image:Clipping input data to the valid range for imshow with RGB data ([0..1] for floats or [0..255] for integers).\n"
          ]
        },
        {
          "output_type": "execute_result",
          "data": {
            "text/plain": [
              "<matplotlib.image.AxesImage at 0x7f1806a60bb0>"
            ]
          },
          "metadata": {},
          "execution_count": 47
        },
        {
          "output_type": "display_data",
          "data": {
            "text/plain": [
              "<Figure size 300x300 with 1 Axes>"
            ],
            "image/png": "[encoded data removed]"
          },
          "metadata": {}
        }
      ]
    }
  ]
}